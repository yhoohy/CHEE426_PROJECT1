{
 "cells": [
  {
   "cell_type": "markdown",
   "metadata": {},
   "source": [
    "# Project 2: Classification of Drugs by Training on Molecular Data\n",
    "\n",
    "CHEE 426(G)  Spring 2024\n",
    "\n",
    "Textbook Chapter 3 & 4."
   ]
  },
  {
   "cell_type": "markdown",
   "metadata": {},
   "source": [
    "The basis of this project is a published work by Data Scientist **Andrew White**: https://dmol.pub/ml/classification.html#complete-model\n",
    "\n",
    "Check the webpage of this orginak work (above) for more details.\n",
    "\n"
   ]
  },
  {
   "cell_type": "markdown",
   "metadata": {},
   "source": [
    "## Problem Statement\n",
    "\n",
    "This Project 2 covers the development of a Classifier to predict the Approval (or Non-approval) by FDA (Food and Drug Administration) of Drugs by training the model on molecular data. It involves concepts and techniques from the Chapter 3 and Chapter 4 of the textbook.\n",
    "\n",
    "This is also a project where you will compete with each other via **Kaggle** to deveop the best Classifier for this project. Hence, this project has its Kaggle competition page were you will submit your notebook and your predictions to a Test Set that only I know the correct labels (true Y). Therefore, your Kaggle performance from this project will be counted as a seatwork - this is separate from your project grade even though we use the same problem for **Project** and seatwork **Competition** via Kaggle.\n",
    "\n",
    "**What Is Expected of You Given We Have this Template Notebook?**\n",
    "\n",
    "Having this template notebook for the project, your task then is to improve the model. Here are possible ways to improve the model according to the discussion of our textbook author:\n",
    " - (1) Use only a subset of the X variables.\n",
    " - (2) Transform some of the X variables.\n",
    " - (3) Use models other than Logistic Regression.\n",
    "\n",
    "Referring to (3), you may also use techniques not covered by the textbook (note that the textbook is focused on few project examples - few examples but deep analysis and good demo) and there are many algorithms out there other than Logistic Regression to  develop a Classfier.\n",
    "\n",
    "**Where Do You Go from Here?**\n",
    "\n",
    "Use this template notebook as a **Base Case** then include your improved model development **by extending the notebook** (add starting at the end of this template notebook). **Requirement: Use Evaluation Metrics for Classification** (Chapter 4) to numerically show the improved performance of your own model compared to the Base Case model.\n"
   ]
  },
  {
   "cell_type": "markdown",
   "metadata": {},
   "source": [
    "## Data\n",
    "\n",
    "The dataset will be downloaded from a GitHub repository via a Pandas function. The dataset was prepared by the MoleculeNet group (Zhenqin Wu, et al. Moleculenet: a benchmark for molecular machine learning. Chemical science, 9(2):513–530, 2018.). \n",
    "\n",
    "It is a collection of molecules that succeeded or failed in clinical trials. \n",
    "\n",
    "The development of a new drug can cost well over a $1 billion, so any way to predict if a molecule will fail during clinical trials is highly valuable. \n",
    "\n",
    "The labels (Y) will be the **FDA_Approved** column which is a 1 or 0 indicating FDA approval status. This is an example of **binary classification**."
   ]
  },
  {
   "cell_type": "markdown",
   "metadata": {},
   "source": [
    "## Import (or Install if needed) Python Modules\n",
    "\n"
   ]
  },
  {
   "cell_type": "code",
   "execution_count": 122,
   "metadata": {},
   "outputs": [],
   "source": [
    "# Uncomment the installation code below if you hav enot installed the module 'dmol-book' that has the codename 'dmol'\n",
    "# Keep the comment if you already installed the module in your environment. This is so the install will no happen evertime you run the notebook.\n",
    "\n",
    "#!pip install dmol-book==1.0.0\n",
    "\n",
    "# Note: The \"!pip\" above is a code to call an install via pip from within a jupyter notebook "
   ]
  },
  {
   "cell_type": "code",
   "execution_count": 123,
   "metadata": {},
   "outputs": [],
   "source": [
    "# If any of the modules below results to import error, make sure to install the module\n",
    "# into the environment you are using to run the notebook.\n",
    "#\n",
    "# If the module is not available in Anaconda Novigator, highly likely it is in pip repository. Hence, install\n",
    "# the module via terminal using 'pip install <package name>'. Remember to launch the terminal from\n",
    "# the Ananconda Navigator Environment, and not from the pure windows terminal. The conda environment must be your environment while installing.\n",
    "# A sign that the you are in the conda envionment is a show of the environment name as the left-most (first part) of a command line\n",
    "# in the terminal.\n",
    "#\n",
    "# Some of the installs may take a while as these packages (rdkit, jax, mordred) are large.\n",
    "# You can also try the '!pip' from wihitn the notebook like the dmol-book above.\n",
    "\n",
    "import pandas as pd\n",
    "import matplotlib.pyplot as plt\n",
    "%matplotlib inline\n",
    "import seaborn as sns\n",
    "\n",
    "#import rdkit, rdkit.Chem, rdkit.Chem.Draw\n",
    "import numpy as np\n",
    "#import jax.numpy as jnp\n",
    "#import mordred, mordred.descriptors\n",
    "#import jax\n",
    "#import dmol"
   ]
  },
  {
   "cell_type": "markdown",
   "metadata": {},
   "source": [
    "## Import Data"
   ]
  },
  {
   "cell_type": "code",
   "execution_count": 124,
   "metadata": {},
   "outputs": [],
   "source": [
    "# from zipfile import ZipFile\n",
    "# from io import BytesIO\n",
    "# from urllib.request import urlopen\n",
    "\n",
    "# from web version\n",
    "# url = 'https://deepchemdata.s3-us-west-1.amazonaws.com/datasets/clintox.csv.gz'\n",
    "# file = urlopen(url).read()\n",
    "# file = BytesIO(file)\n",
    "# document = ZipFile(file)\n",
    "# toxdata = pd.read_csv(document.open('clintox.csv'))\n",
    "\n",
    "# local version\n",
    "# toxdata = pd.read_csv(\n",
    "#    \"https://github.com/whitead/dmol-book/raw/main/data/clintox.csv.gz\"\n",
    "# )\n",
    "\n",
    "# toxdata.head() # this shows the top 5 rows of the data.\n",
    "\n",
    "# Also chekc the GitHub repo of the data as shown in the URL insede \"\" above for more details.\n"
   ]
  },
  {
   "cell_type": "markdown",
   "metadata": {},
   "source": [
    "### Raw Data and SMILES\n",
    "\n",
    "The molecular structure under the heading 'smiles' follows the standardized SMILES format of reporting molecular structure. Read more about this SMILES if you want more details: https://en.wikipedia.org/wiki/Simplified_molecular-input_line-entry_system\n",
    "\n",
    "The SMILES data, however, will be needed to compute the descriptors (X variables) as shown in the following Molecular Descriptors section."
   ]
  },
  {
   "cell_type": "markdown",
   "metadata": {},
   "source": [
    "### Molecular Descriptors\n",
    "\n",
    "This time, our data does not come with pre-computed descriptors. We only have the SMILES string, which is a way of writing a molecule using letters and numbers (a string). We can use rdkit to convert the SMILES string into a molecule, and then we can use a package called Mordred {cite}moriwaki2018mordred to compute a set of descriptors for each molecule. This package will compute around 1500 descriptors (1500 X-variables) for each molecule.\n",
    "\n",
    "We'll start by converting our molecules into rdkit objects and building a calculator to compute the descriptors."
   ]
  },
  {
   "cell_type": "code",
   "execution_count": 125,
   "metadata": {},
   "outputs": [],
   "source": [
    "# # make object that can compute descriptors\n",
    "# calc = mordred.Calculator(mordred.descriptors, ignore_3D=True)\n",
    "# # make subsample from pandas df\n",
    "# molecules = [rdkit.Chem.MolFromSmiles(smi) for smi in toxdata.smiles]\n",
    "\n",
    "# # view one molecule to make sure things look good.\n",
    "# molecules[0]"
   ]
  },
  {
   "cell_type": "markdown",
   "metadata": {},
   "source": [
    "Some of our molecules failed to be converted. We'll have to remove them. We need to remember which ones were deleted too, since we need to remove the failed molecules from the labels."
   ]
  },
  {
   "cell_type": "code",
   "execution_count": 126,
   "metadata": {},
   "outputs": [],
   "source": [
    "# # the invalid molecules were None, so we'll just\n",
    "# # use the fact the None is False in Python\n",
    "# valid_mol_idx = [bool(m) for m in molecules]\n",
    "# valid_mols = [m for m in molecules if m]"
   ]
  },
  {
   "cell_type": "code",
   "execution_count": 127,
   "metadata": {},
   "outputs": [],
   "source": [
    "# # Just checking how many valied samples are there in the dataset:\n",
    "# len(valid_mols)"
   ]
  },
  {
   "cell_type": "code",
   "execution_count": 128,
   "metadata": {},
   "outputs": [],
   "source": [
    "# # Now generating the descriptors (X vars) from the valid molecules\n",
    "# # This will run for some time (seconds to minutes) as the mordred calc extracts the properties of each molecule.\n",
    "\n",
    "\n",
    "# features_raw = calc.pandas(valid_mols)"
   ]
  },
  {
   "cell_type": "code",
   "execution_count": 129,
   "metadata": {},
   "outputs": [],
   "source": [
    "# # Check how the table looks:\n",
    "# features_raw"
   ]
  },
  {
   "cell_type": "markdown",
   "metadata": {},
   "source": [
    "The modeling we are doing must use only the numeric descriptors. Examples of non-numeric are the first 2 columns as shown by the error in numpy. Note: Numpy works with numeric data only. Remember that a categorical data can be converted to numeric via One-Hot Encoding, but we will not do that now - we just work with whatever numeric data we have in the dataset."
   ]
  },
  {
   "cell_type": "code",
   "execution_count": 130,
   "metadata": {},
   "outputs": [],
   "source": [
    "# # Check data types\n",
    "\n",
    "# features_raw.dtypes"
   ]
  },
  {
   "cell_type": "code",
   "execution_count": 131,
   "metadata": {},
   "outputs": [],
   "source": [
    "# # Note: there are more than 1000 descriptors/columns, so sifting through each column to 'see' data type is not practical.\n",
    "\n",
    "# # First, observe that some numeric columns have been automatically labeled by pandas as object. This is not correct.\n",
    "# # Hence, we force Pandas to convert all possible columns into numeric. \n",
    "\n",
    "# features = features_raw.astype(float) # Those data that cannot be converted to float will be NaN\n",
    "\n",
    "# # Note: Pay attention to the change of name of the Numpy array. This is a technique in working with notebook - create new var/array out of existing var/array if need to keep raw data.\n",
    "# #\n",
    "# # run this code if you want to see the summary of datatypes: \n",
    "# # features.dtypes\n",
    "# # features.head()\n",
    "\n",
    "# # We then remove columns with NaN entries as shown in the following cells resulting to lower than 1000 descriptors, around 400\n"
   ]
  },
  {
   "cell_type": "markdown",
   "metadata": {},
   "source": [
    "Now we just need to stich everything back together so that our labels are consistent and standardize our features."
   ]
  },
  {
   "cell_type": "code",
   "execution_count": 132,
   "metadata": {},
   "outputs": [],
   "source": [
    "# labels = toxdata[valid_mol_idx].FDA_APPROVED\n",
    "# features -= features.mean()\n",
    "# features /= features.std()\n",
    "\n",
    "# # we have some nans in features, likely because std was 0\n",
    "# features.dropna(inplace=True, axis=1)\n",
    "\n",
    "# print(f\"We have {len(features.columns)} features per molecule\")"
   ]
  },
  {
   "cell_type": "markdown",
   "metadata": {},
   "source": [
    "So, the dataset is now ready: Y = labels, and X = features.\n",
    "\n",
    "That was quite a lenghty pre-processing of data. Sometimes, PRE-PROCESSING is a bottleneck in an ML task. Some Data Scientist sole job is preparing data, which requires a deeper understaning of data structures and transformation techniques. This is a big job that there is a job specialzation called Data Engineering in world of Data Science."
   ]
  },
  {
   "cell_type": "markdown",
   "metadata": {},
   "source": [
    "## Exploratory data analysis"
   ]
  },
  {
   "cell_type": "code",
   "execution_count": 133,
   "metadata": {},
   "outputs": [],
   "source": [
    "data= pd.read_csv('projec2_data_clean.csv')"
   ]
  },
  {
   "cell_type": "code",
   "execution_count": 134,
   "metadata": {},
   "outputs": [],
   "source": [
    "# remove the 'Unnamed' column. That is just a data index in the excel workbook.\n",
    "df = data.loc[:, ~data.columns.str.contains('^Unnamed')]"
   ]
  },
  {
   "cell_type": "code",
   "execution_count": 135,
   "metadata": {},
   "outputs": [],
   "source": [
    "features=df.drop(['FDA_APPROVED'],axis=1)"
   ]
  },
  {
   "cell_type": "code",
   "execution_count": 136,
   "metadata": {},
   "outputs": [
    {
     "data": {
      "text/html": [
       "<div>\n",
       "<style scoped>\n",
       "    .dataframe tbody tr th:only-of-type {\n",
       "        vertical-align: middle;\n",
       "    }\n",
       "\n",
       "    .dataframe tbody tr th {\n",
       "        vertical-align: top;\n",
       "    }\n",
       "\n",
       "    .dataframe thead th {\n",
       "        text-align: right;\n",
       "    }\n",
       "</style>\n",
       "<table border=\"1\" class=\"dataframe\">\n",
       "  <thead>\n",
       "    <tr style=\"text-align: right;\">\n",
       "      <th></th>\n",
       "      <th>nAcid</th>\n",
       "      <th>nBase</th>\n",
       "      <th>nAromAtom</th>\n",
       "      <th>nAromBond</th>\n",
       "      <th>nAtom</th>\n",
       "      <th>nHeavyAtom</th>\n",
       "      <th>nSpiro</th>\n",
       "      <th>nBridgehead</th>\n",
       "      <th>nHetero</th>\n",
       "      <th>nH</th>\n",
       "      <th>...</th>\n",
       "      <th>SRW09</th>\n",
       "      <th>SRW10</th>\n",
       "      <th>TSRW10</th>\n",
       "      <th>MW</th>\n",
       "      <th>AMW</th>\n",
       "      <th>WPath</th>\n",
       "      <th>WPol</th>\n",
       "      <th>Zagreb1</th>\n",
       "      <th>Zagreb2</th>\n",
       "      <th>mZagreb2</th>\n",
       "    </tr>\n",
       "  </thead>\n",
       "  <tbody>\n",
       "    <tr>\n",
       "      <th>0</th>\n",
       "      <td>-0.478046</td>\n",
       "      <td>-0.652093</td>\n",
       "      <td>-1.203569</td>\n",
       "      <td>-1.193150</td>\n",
       "      <td>-0.055375</td>\n",
       "      <td>-0.142306</td>\n",
       "      <td>-0.165193</td>\n",
       "      <td>-0.190777</td>\n",
       "      <td>0.445574</td>\n",
       "      <td>0.029177</td>\n",
       "      <td>...</td>\n",
       "      <td>-0.96614</td>\n",
       "      <td>-0.716841</td>\n",
       "      <td>-0.508565</td>\n",
       "      <td>-0.219626</td>\n",
       "      <td>-0.266773</td>\n",
       "      <td>-0.074258</td>\n",
       "      <td>-0.553496</td>\n",
       "      <td>-0.449909</td>\n",
       "      <td>-0.579923</td>\n",
       "      <td>0.040248</td>\n",
       "    </tr>\n",
       "    <tr>\n",
       "      <th>1</th>\n",
       "      <td>-0.478046</td>\n",
       "      <td>-0.652093</td>\n",
       "      <td>-1.203569</td>\n",
       "      <td>-1.193150</td>\n",
       "      <td>-1.034032</td>\n",
       "      <td>-0.902185</td>\n",
       "      <td>-0.165193</td>\n",
       "      <td>-0.190777</td>\n",
       "      <td>-0.232175</td>\n",
       "      <td>-1.099389</td>\n",
       "      <td>...</td>\n",
       "      <td>-0.96614</td>\n",
       "      <td>-0.364046</td>\n",
       "      <td>-1.082961</td>\n",
       "      <td>-0.414933</td>\n",
       "      <td>1.313113</td>\n",
       "      <td>-0.074259</td>\n",
       "      <td>-0.718699</td>\n",
       "      <td>-0.898844</td>\n",
       "      <td>-0.863021</td>\n",
       "      <td>-0.908968</td>\n",
       "    </tr>\n",
       "    <tr>\n",
       "      <th>2</th>\n",
       "      <td>1.849282</td>\n",
       "      <td>-0.652093</td>\n",
       "      <td>-1.203569</td>\n",
       "      <td>-1.193150</td>\n",
       "      <td>-0.907754</td>\n",
       "      <td>-0.775538</td>\n",
       "      <td>-0.165193</td>\n",
       "      <td>-0.190777</td>\n",
       "      <td>0.106700</td>\n",
       "      <td>-0.980593</td>\n",
       "      <td>...</td>\n",
       "      <td>-0.96614</td>\n",
       "      <td>-0.669475</td>\n",
       "      <td>-1.015730</td>\n",
       "      <td>-0.759098</td>\n",
       "      <td>0.189733</td>\n",
       "      <td>-0.074259</td>\n",
       "      <td>-0.751740</td>\n",
       "      <td>-0.875216</td>\n",
       "      <td>-0.892307</td>\n",
       "      <td>-0.748084</td>\n",
       "    </tr>\n",
       "    <tr>\n",
       "      <th>3</th>\n",
       "      <td>-0.478046</td>\n",
       "      <td>2.323543</td>\n",
       "      <td>-0.300663</td>\n",
       "      <td>-0.318022</td>\n",
       "      <td>-0.371071</td>\n",
       "      <td>-0.268953</td>\n",
       "      <td>-0.165193</td>\n",
       "      <td>-0.190777</td>\n",
       "      <td>-0.401612</td>\n",
       "      <td>-0.386610</td>\n",
       "      <td>...</td>\n",
       "      <td>-0.96614</td>\n",
       "      <td>-0.129900</td>\n",
       "      <td>-0.530190</td>\n",
       "      <td>-0.439561</td>\n",
       "      <td>-0.191975</td>\n",
       "      <td>-0.074258</td>\n",
       "      <td>-0.355253</td>\n",
       "      <td>-0.331768</td>\n",
       "      <td>-0.365159</td>\n",
       "      <td>-0.233255</td>\n",
       "    </tr>\n",
       "    <tr>\n",
       "      <th>4</th>\n",
       "      <td>-0.478046</td>\n",
       "      <td>3.315422</td>\n",
       "      <td>0.602242</td>\n",
       "      <td>0.557106</td>\n",
       "      <td>0.007764</td>\n",
       "      <td>0.047664</td>\n",
       "      <td>-0.165193</td>\n",
       "      <td>-0.190777</td>\n",
       "      <td>-0.232175</td>\n",
       "      <td>0.088576</td>\n",
       "      <td>...</td>\n",
       "      <td>-0.96614</td>\n",
       "      <td>-0.139229</td>\n",
       "      <td>-0.285160</td>\n",
       "      <td>-0.180663</td>\n",
       "      <td>-0.282140</td>\n",
       "      <td>-0.074258</td>\n",
       "      <td>-0.223091</td>\n",
       "      <td>-0.119115</td>\n",
       "      <td>-0.199204</td>\n",
       "      <td>0.168955</td>\n",
       "    </tr>\n",
       "  </tbody>\n",
       "</table>\n",
       "<p>5 rows × 481 columns</p>\n",
       "</div>"
      ],
      "text/plain": [
       "      nAcid     nBase  nAromAtom  nAromBond     nAtom  nHeavyAtom    nSpiro  \\\n",
       "0 -0.478046 -0.652093  -1.203569  -1.193150 -0.055375   -0.142306 -0.165193   \n",
       "1 -0.478046 -0.652093  -1.203569  -1.193150 -1.034032   -0.902185 -0.165193   \n",
       "2  1.849282 -0.652093  -1.203569  -1.193150 -0.907754   -0.775538 -0.165193   \n",
       "3 -0.478046  2.323543  -0.300663  -0.318022 -0.371071   -0.268953 -0.165193   \n",
       "4 -0.478046  3.315422   0.602242   0.557106  0.007764    0.047664 -0.165193   \n",
       "\n",
       "   nBridgehead   nHetero        nH  ...    SRW09     SRW10    TSRW10  \\\n",
       "0    -0.190777  0.445574  0.029177  ... -0.96614 -0.716841 -0.508565   \n",
       "1    -0.190777 -0.232175 -1.099389  ... -0.96614 -0.364046 -1.082961   \n",
       "2    -0.190777  0.106700 -0.980593  ... -0.96614 -0.669475 -1.015730   \n",
       "3    -0.190777 -0.401612 -0.386610  ... -0.96614 -0.129900 -0.530190   \n",
       "4    -0.190777 -0.232175  0.088576  ... -0.96614 -0.139229 -0.285160   \n",
       "\n",
       "         MW       AMW     WPath      WPol   Zagreb1   Zagreb2  mZagreb2  \n",
       "0 -0.219626 -0.266773 -0.074258 -0.553496 -0.449909 -0.579923  0.040248  \n",
       "1 -0.414933  1.313113 -0.074259 -0.718699 -0.898844 -0.863021 -0.908968  \n",
       "2 -0.759098  0.189733 -0.074259 -0.751740 -0.875216 -0.892307 -0.748084  \n",
       "3 -0.439561 -0.191975 -0.074258 -0.355253 -0.331768 -0.365159 -0.233255  \n",
       "4 -0.180663 -0.282140 -0.074258 -0.223091 -0.119115 -0.199204  0.168955  \n",
       "\n",
       "[5 rows x 481 columns]"
      ]
     },
     "execution_count": 136,
     "metadata": {},
     "output_type": "execute_result"
    }
   ],
   "source": [
    "#X variable\n",
    "features.head()"
   ]
  },
  {
   "cell_type": "code",
   "execution_count": 137,
   "metadata": {},
   "outputs": [],
   "source": [
    "#Y variable\n",
    "labels= df['FDA_APPROVED']"
   ]
  },
  {
   "cell_type": "code",
   "execution_count": 138,
   "metadata": {},
   "outputs": [
    {
     "name": "stdout",
     "output_type": "stream",
     "text": [
      "Total working samples X = 1476 \n",
      "\n",
      "NULL values in X: \n",
      "nAcid        0\n",
      "nBase        0\n",
      "nAromAtom    0\n",
      "nAromBond    0\n",
      "nAtom        0\n",
      "            ..\n",
      "WPath        0\n",
      "WPol         0\n",
      "Zagreb1      0\n",
      "Zagreb2      0\n",
      "mZagreb2     0\n",
      "Length: 481, dtype: int64 \n",
      "\n"
     ]
    }
   ],
   "source": [
    "# X: Check for null: NA, NaN, etc.\n",
    "print(f'Total working samples X = {len(features)} \\n')\n",
    "\n",
    "print(f'NULL values in X: \\n{features.isnull().sum()} \\n')"
   ]
  },
  {
   "cell_type": "code",
   "execution_count": 139,
   "metadata": {},
   "outputs": [
    {
     "name": "stdout",
     "output_type": "stream",
     "text": [
      "Total working samples Y = 1476 \n",
      "\n",
      "NULL values in Y: 0 \n",
      "\n",
      "Y levels counts: \n",
      "FDA_APPROVED\n",
      "1.0    1382\n",
      "0.0      94\n",
      "Name: count, dtype: int64\n"
     ]
    }
   ],
   "source": [
    "# Y: Check for null: NA, NaN, etc.\n",
    "print(f'Total working samples Y = {len(labels)} \\n')\n",
    "print(f'NULL values in Y: {labels.isnull().sum()} \\n')\n",
    "\n",
    "\n",
    "# Let us check our Y var: FDA-approved drug - \"Yes\"=1, \"No\"=0.\n",
    "print(f'Y levels counts: \\n{labels.value_counts()}')"
   ]
  },
  {
   "cell_type": "markdown",
   "metadata": {},
   "source": [
    "Notice that there are way more FDA-approved drugs in our dataset than the drugs that failed FDA approval. This is a limitation inherent to the field of Health Science (not Data Science). Only companies very confident with the success of their drugs will submit their drugs for FDA evaluation. Nonetheless, we, the Data Scientis, must work with the data that we have at hand. So, let us continue."
   ]
  },
  {
   "cell_type": "code",
   "execution_count": 140,
   "metadata": {},
   "outputs": [],
   "source": [
    "# To facilitate the correct splitting of the dataset into Testing, Trainig, and Validation sets, \n",
    "# let us combine the features(X) dataframe and the labels(Y) dataframe and call it df.\n",
    "\n",
    "# concatenating X and Y along columns\n",
    "df = pd.concat([features, labels], axis=1) # axis=1 means column-wise; axis=0 means rowwise.\n",
    "\n",
    "df = df.dropna()\n",
    "# Remember to use 'df' dataframe in the succeeding steps."
   ]
  },
  {
   "cell_type": "code",
   "execution_count": 141,
   "metadata": {},
   "outputs": [
    {
     "data": {
      "text/html": [
       "<div>\n",
       "<style scoped>\n",
       "    .dataframe tbody tr th:only-of-type {\n",
       "        vertical-align: middle;\n",
       "    }\n",
       "\n",
       "    .dataframe tbody tr th {\n",
       "        vertical-align: top;\n",
       "    }\n",
       "\n",
       "    .dataframe thead th {\n",
       "        text-align: right;\n",
       "    }\n",
       "</style>\n",
       "<table border=\"1\" class=\"dataframe\">\n",
       "  <thead>\n",
       "    <tr style=\"text-align: right;\">\n",
       "      <th></th>\n",
       "      <th>nAcid</th>\n",
       "      <th>nBase</th>\n",
       "      <th>nAromAtom</th>\n",
       "      <th>nAromBond</th>\n",
       "      <th>nAtom</th>\n",
       "      <th>nHeavyAtom</th>\n",
       "      <th>nSpiro</th>\n",
       "      <th>nBridgehead</th>\n",
       "      <th>nHetero</th>\n",
       "      <th>nH</th>\n",
       "      <th>...</th>\n",
       "      <th>SRW10</th>\n",
       "      <th>TSRW10</th>\n",
       "      <th>MW</th>\n",
       "      <th>AMW</th>\n",
       "      <th>WPath</th>\n",
       "      <th>WPol</th>\n",
       "      <th>Zagreb1</th>\n",
       "      <th>Zagreb2</th>\n",
       "      <th>mZagreb2</th>\n",
       "      <th>FDA_APPROVED</th>\n",
       "    </tr>\n",
       "  </thead>\n",
       "  <tbody>\n",
       "    <tr>\n",
       "      <th>0</th>\n",
       "      <td>-0.478046</td>\n",
       "      <td>-0.652093</td>\n",
       "      <td>-1.203569</td>\n",
       "      <td>-1.193150</td>\n",
       "      <td>-0.055375</td>\n",
       "      <td>-0.142306</td>\n",
       "      <td>-0.165193</td>\n",
       "      <td>-0.190777</td>\n",
       "      <td>0.445574</td>\n",
       "      <td>0.029177</td>\n",
       "      <td>...</td>\n",
       "      <td>-0.716841</td>\n",
       "      <td>-0.508565</td>\n",
       "      <td>-0.219626</td>\n",
       "      <td>-0.266773</td>\n",
       "      <td>-0.074258</td>\n",
       "      <td>-0.553496</td>\n",
       "      <td>-0.449909</td>\n",
       "      <td>-0.579923</td>\n",
       "      <td>0.040248</td>\n",
       "      <td>1.0</td>\n",
       "    </tr>\n",
       "    <tr>\n",
       "      <th>1</th>\n",
       "      <td>-0.478046</td>\n",
       "      <td>-0.652093</td>\n",
       "      <td>-1.203569</td>\n",
       "      <td>-1.193150</td>\n",
       "      <td>-1.034032</td>\n",
       "      <td>-0.902185</td>\n",
       "      <td>-0.165193</td>\n",
       "      <td>-0.190777</td>\n",
       "      <td>-0.232175</td>\n",
       "      <td>-1.099389</td>\n",
       "      <td>...</td>\n",
       "      <td>-0.364046</td>\n",
       "      <td>-1.082961</td>\n",
       "      <td>-0.414933</td>\n",
       "      <td>1.313113</td>\n",
       "      <td>-0.074259</td>\n",
       "      <td>-0.718699</td>\n",
       "      <td>-0.898844</td>\n",
       "      <td>-0.863021</td>\n",
       "      <td>-0.908968</td>\n",
       "      <td>1.0</td>\n",
       "    </tr>\n",
       "    <tr>\n",
       "      <th>2</th>\n",
       "      <td>1.849282</td>\n",
       "      <td>-0.652093</td>\n",
       "      <td>-1.203569</td>\n",
       "      <td>-1.193150</td>\n",
       "      <td>-0.907754</td>\n",
       "      <td>-0.775538</td>\n",
       "      <td>-0.165193</td>\n",
       "      <td>-0.190777</td>\n",
       "      <td>0.106700</td>\n",
       "      <td>-0.980593</td>\n",
       "      <td>...</td>\n",
       "      <td>-0.669475</td>\n",
       "      <td>-1.015730</td>\n",
       "      <td>-0.759098</td>\n",
       "      <td>0.189733</td>\n",
       "      <td>-0.074259</td>\n",
       "      <td>-0.751740</td>\n",
       "      <td>-0.875216</td>\n",
       "      <td>-0.892307</td>\n",
       "      <td>-0.748084</td>\n",
       "      <td>1.0</td>\n",
       "    </tr>\n",
       "    <tr>\n",
       "      <th>3</th>\n",
       "      <td>-0.478046</td>\n",
       "      <td>2.323543</td>\n",
       "      <td>-0.300663</td>\n",
       "      <td>-0.318022</td>\n",
       "      <td>-0.371071</td>\n",
       "      <td>-0.268953</td>\n",
       "      <td>-0.165193</td>\n",
       "      <td>-0.190777</td>\n",
       "      <td>-0.401612</td>\n",
       "      <td>-0.386610</td>\n",
       "      <td>...</td>\n",
       "      <td>-0.129900</td>\n",
       "      <td>-0.530190</td>\n",
       "      <td>-0.439561</td>\n",
       "      <td>-0.191975</td>\n",
       "      <td>-0.074258</td>\n",
       "      <td>-0.355253</td>\n",
       "      <td>-0.331768</td>\n",
       "      <td>-0.365159</td>\n",
       "      <td>-0.233255</td>\n",
       "      <td>1.0</td>\n",
       "    </tr>\n",
       "    <tr>\n",
       "      <th>4</th>\n",
       "      <td>-0.478046</td>\n",
       "      <td>3.315422</td>\n",
       "      <td>0.602242</td>\n",
       "      <td>0.557106</td>\n",
       "      <td>0.007764</td>\n",
       "      <td>0.047664</td>\n",
       "      <td>-0.165193</td>\n",
       "      <td>-0.190777</td>\n",
       "      <td>-0.232175</td>\n",
       "      <td>0.088576</td>\n",
       "      <td>...</td>\n",
       "      <td>-0.139229</td>\n",
       "      <td>-0.285160</td>\n",
       "      <td>-0.180663</td>\n",
       "      <td>-0.282140</td>\n",
       "      <td>-0.074258</td>\n",
       "      <td>-0.223091</td>\n",
       "      <td>-0.119115</td>\n",
       "      <td>-0.199204</td>\n",
       "      <td>0.168955</td>\n",
       "      <td>1.0</td>\n",
       "    </tr>\n",
       "  </tbody>\n",
       "</table>\n",
       "<p>5 rows × 482 columns</p>\n",
       "</div>"
      ],
      "text/plain": [
       "      nAcid     nBase  nAromAtom  nAromBond     nAtom  nHeavyAtom    nSpiro  \\\n",
       "0 -0.478046 -0.652093  -1.203569  -1.193150 -0.055375   -0.142306 -0.165193   \n",
       "1 -0.478046 -0.652093  -1.203569  -1.193150 -1.034032   -0.902185 -0.165193   \n",
       "2  1.849282 -0.652093  -1.203569  -1.193150 -0.907754   -0.775538 -0.165193   \n",
       "3 -0.478046  2.323543  -0.300663  -0.318022 -0.371071   -0.268953 -0.165193   \n",
       "4 -0.478046  3.315422   0.602242   0.557106  0.007764    0.047664 -0.165193   \n",
       "\n",
       "   nBridgehead   nHetero        nH  ...     SRW10    TSRW10        MW  \\\n",
       "0    -0.190777  0.445574  0.029177  ... -0.716841 -0.508565 -0.219626   \n",
       "1    -0.190777 -0.232175 -1.099389  ... -0.364046 -1.082961 -0.414933   \n",
       "2    -0.190777  0.106700 -0.980593  ... -0.669475 -1.015730 -0.759098   \n",
       "3    -0.190777 -0.401612 -0.386610  ... -0.129900 -0.530190 -0.439561   \n",
       "4    -0.190777 -0.232175  0.088576  ... -0.139229 -0.285160 -0.180663   \n",
       "\n",
       "        AMW     WPath      WPol   Zagreb1   Zagreb2  mZagreb2  FDA_APPROVED  \n",
       "0 -0.266773 -0.074258 -0.553496 -0.449909 -0.579923  0.040248           1.0  \n",
       "1  1.313113 -0.074259 -0.718699 -0.898844 -0.863021 -0.908968           1.0  \n",
       "2  0.189733 -0.074259 -0.751740 -0.875216 -0.892307 -0.748084           1.0  \n",
       "3 -0.191975 -0.074258 -0.355253 -0.331768 -0.365159 -0.233255           1.0  \n",
       "4 -0.282140 -0.074258 -0.223091 -0.119115 -0.199204  0.168955           1.0  \n",
       "\n",
       "[5 rows x 482 columns]"
      ]
     },
     "execution_count": 141,
     "metadata": {},
     "output_type": "execute_result"
    }
   ],
   "source": [
    "# Checking dataframe first 5 rows\n",
    "df.head()"
   ]
  },
  {
   "cell_type": "markdown",
   "metadata": {},
   "source": [
    "### Spliting Dataset"
   ]
  },
  {
   "cell_type": "code",
   "execution_count": 142,
   "metadata": {},
   "outputs": [],
   "source": [
    "from sklearn.model_selection import train_test_split"
   ]
  },
  {
   "cell_type": "code",
   "execution_count": 143,
   "metadata": {},
   "outputs": [],
   "source": [
    "df_train_full, df_test = train_test_split(df, test_size=0.2, random_state=1)"
   ]
  },
  {
   "cell_type": "code",
   "execution_count": 144,
   "metadata": {},
   "outputs": [],
   "source": [
    "df_train, df_val = train_test_split(df_train_full, test_size=0.33, random_state=11)"
   ]
  },
  {
   "cell_type": "code",
   "execution_count": 145,
   "metadata": {
    "scrolled": true
   },
   "outputs": [],
   "source": [
    "y_train = df_train.FDA_APPROVED\n",
    "y_val = df_val.FDA_APPROVED\n",
    "y_test = df_test.FDA_APPROVED"
   ]
  },
  {
   "cell_type": "code",
   "execution_count": 146,
   "metadata": {},
   "outputs": [],
   "source": [
    "del df_train['FDA_APPROVED']\n",
    "del df_val['FDA_APPROVED']\n",
    "del df_test['FDA_APPROVED']\n",
    "\n",
    "# Since there is no categorical var in our X feature data, no need to do One-Hot Encoding. Hence:\n",
    "\n",
    "X_train = df_train\n",
    "X_val = df_val\n",
    "X_test = df_test\n"
   ]
  },
  {
   "cell_type": "code",
   "execution_count": 147,
   "metadata": {},
   "outputs": [
    {
     "data": {
      "text/plain": [
       "dtype('float64')"
      ]
     },
     "execution_count": 147,
     "metadata": {},
     "output_type": "execute_result"
    }
   ],
   "source": [
    "y_train.dtype"
   ]
  },
  {
   "cell_type": "code",
   "execution_count": 148,
   "metadata": {},
   "outputs": [
    {
     "data": {
      "text/plain": [
       "FDA_APPROVED\n",
       "1.0    274\n",
       "0.0     22\n",
       "Name: count, dtype: int64"
      ]
     },
     "execution_count": 148,
     "metadata": {},
     "output_type": "execute_result"
    }
   ],
   "source": [
    "# Checking 0 and 1 in the y_test. Make sure the are 0's.\n",
    "y_test.value_counts()"
   ]
  },
  {
   "cell_type": "code",
   "execution_count": null,
   "metadata": {},
   "outputs": [],
   "source": []
  },
  {
   "cell_type": "markdown",
   "metadata": {},
   "source": [
    "## Model Training"
   ]
  },
  {
   "cell_type": "markdown",
   "metadata": {},
   "source": [
    "Since we ought to develop a classifier that will predict the success of getting approved by FDA (1 = FDA-approved, and 0 = Not FDA-approved), we have to implement a classfication ML. We use our Logistic Regression model for two output evels (binay output)."
   ]
  },
  {
   "cell_type": "code",
   "execution_count": 149,
   "metadata": {},
   "outputs": [],
   "source": [
    "# # Recall the logistic regression base-function f(z)=SIGMOID(z):\n",
    "\n",
    "# from myst_nb import glue\n",
    "\n",
    "# z = np.linspace(-10, 10, 500)\n",
    "# y = 1 / (1 + np.exp(-z))\n",
    "# plt.plot(z, y)\n",
    "# plt.xlabel(r\"$z$\")\n",
    "# plt.ylabel(r\"$f(z)$\")\n",
    "# plt.axvline(0, color=\"gray\")\n",
    "# plt.title(\"Sigmoid\")\n",
    "# glue(\"sigmoid\", plt.gcf(), display=False)"
   ]
  },
  {
   "cell_type": "markdown",
   "metadata": {},
   "source": [
    "where $f(z)$ is the **sigmoid** function. The variable $z$ is the linear model wherein we estimate the model parameters $w$ such that: $z=wX=w_{0} + \\sum_{i=1}^n w_{i}X_{i}$. Recall the dot-product: $wX$. The molecular descriptors are the model inputs $X_{i}$, which are the data in the dataframe **features** we created above. The sigmoid has a domain of $(-\\infty, \\infty)$ and outputs a probability $(0, 1)$. The input to the sigmoid can be viewed as log-odds, called **logits** for short. Odds are ratios of probability -- odds of 1 means the probability of the class 1 is 0.5 and class 0 is 0.5. Odds of 2 means the probability of class 1 is 0.67 and class 0 is 0.33. Log-odds is the natural logarithm of that, so that log-odds of 0 means the odds are 1 and the output probability should be 0.5. One definition of the sigmoid is \n",
    "\n",
    "\\begin{equation}\n",
    "f(z) = \\frac{1}{1 + e^{-z}}\n",
    "\\end{equation}\n",
    "\n",
    "\\begin{equation}\n",
    "z=wX=w_{0} + \\sum_{i=1}^n w_{i}X_{i}\n",
    "\\end{equation}\n",
    "\n",
    "however in practice there are some complexities to implementing sigmoids to make sure they're numerically stable. This type of binary classifier is sometimes called **logistic regression** because we're regressing logits. \n",
    "\n",
    "In essence, all we've done is replacing the inequality of the perceptron with a smooth differentiable version. Just like previously, a positive number indicated class 1 (FDA approved) but now it's a continuum of numbers from 0.5 to 1.0. This is **soft** classification -- we give probabilities of class membership instead of hard assignment. However, our loss function now needs to be modified as well. \n",
    "\n",
    "\n",
    "\n",
    "Instead of writing our own code to perform logistic regression, we will use the pre-built function in Scikit-Learn as shown by the textbook author (Chapter 3 and 4): **from sklearn.linear_model import LogisticRegression**. \n",
    "\n",
    "So, please review/study/consult the detailed step-by-step implementation and explanation of the code in the Chapter 3 and 4 notebook and videos.\n"
   ]
  },
  {
   "cell_type": "markdown",
   "metadata": {},
   "source": [
    "#### Training logistic regression"
   ]
  },
  {
   "cell_type": "code",
   "execution_count": 150,
   "metadata": {},
   "outputs": [],
   "source": [
    "from sklearn.linear_model import LogisticRegression"
   ]
  },
  {
   "cell_type": "code",
   "execution_count": 151,
   "metadata": {},
   "outputs": [
    {
     "data": {
      "text/html": [
       "<style>#sk-container-id-7 {color: black;background-color: white;}#sk-container-id-7 pre{padding: 0;}#sk-container-id-7 div.sk-toggleable {background-color: white;}#sk-container-id-7 label.sk-toggleable__label {cursor: pointer;display: block;width: 100%;margin-bottom: 0;padding: 0.3em;box-sizing: border-box;text-align: center;}#sk-container-id-7 label.sk-toggleable__label-arrow:before {content: \"▸\";float: left;margin-right: 0.25em;color: #696969;}#sk-container-id-7 label.sk-toggleable__label-arrow:hover:before {color: black;}#sk-container-id-7 div.sk-estimator:hover label.sk-toggleable__label-arrow:before {color: black;}#sk-container-id-7 div.sk-toggleable__content {max-height: 0;max-width: 0;overflow: hidden;text-align: left;background-color: #f0f8ff;}#sk-container-id-7 div.sk-toggleable__content pre {margin: 0.2em;color: black;border-radius: 0.25em;background-color: #f0f8ff;}#sk-container-id-7 input.sk-toggleable__control:checked~div.sk-toggleable__content {max-height: 200px;max-width: 100%;overflow: auto;}#sk-container-id-7 input.sk-toggleable__control:checked~label.sk-toggleable__label-arrow:before {content: \"▾\";}#sk-container-id-7 div.sk-estimator input.sk-toggleable__control:checked~label.sk-toggleable__label {background-color: #d4ebff;}#sk-container-id-7 div.sk-label input.sk-toggleable__control:checked~label.sk-toggleable__label {background-color: #d4ebff;}#sk-container-id-7 input.sk-hidden--visually {border: 0;clip: rect(1px 1px 1px 1px);clip: rect(1px, 1px, 1px, 1px);height: 1px;margin: -1px;overflow: hidden;padding: 0;position: absolute;width: 1px;}#sk-container-id-7 div.sk-estimator {font-family: monospace;background-color: #f0f8ff;border: 1px dotted black;border-radius: 0.25em;box-sizing: border-box;margin-bottom: 0.5em;}#sk-container-id-7 div.sk-estimator:hover {background-color: #d4ebff;}#sk-container-id-7 div.sk-parallel-item::after {content: \"\";width: 100%;border-bottom: 1px solid gray;flex-grow: 1;}#sk-container-id-7 div.sk-label:hover label.sk-toggleable__label {background-color: #d4ebff;}#sk-container-id-7 div.sk-serial::before {content: \"\";position: absolute;border-left: 1px solid gray;box-sizing: border-box;top: 0;bottom: 0;left: 50%;z-index: 0;}#sk-container-id-7 div.sk-serial {display: flex;flex-direction: column;align-items: center;background-color: white;padding-right: 0.2em;padding-left: 0.2em;position: relative;}#sk-container-id-7 div.sk-item {position: relative;z-index: 1;}#sk-container-id-7 div.sk-parallel {display: flex;align-items: stretch;justify-content: center;background-color: white;position: relative;}#sk-container-id-7 div.sk-item::before, #sk-container-id-7 div.sk-parallel-item::before {content: \"\";position: absolute;border-left: 1px solid gray;box-sizing: border-box;top: 0;bottom: 0;left: 50%;z-index: -1;}#sk-container-id-7 div.sk-parallel-item {display: flex;flex-direction: column;z-index: 1;position: relative;background-color: white;}#sk-container-id-7 div.sk-parallel-item:first-child::after {align-self: flex-end;width: 50%;}#sk-container-id-7 div.sk-parallel-item:last-child::after {align-self: flex-start;width: 50%;}#sk-container-id-7 div.sk-parallel-item:only-child::after {width: 0;}#sk-container-id-7 div.sk-dashed-wrapped {border: 1px dashed gray;margin: 0 0.4em 0.5em 0.4em;box-sizing: border-box;padding-bottom: 0.4em;background-color: white;}#sk-container-id-7 div.sk-label label {font-family: monospace;font-weight: bold;display: inline-block;line-height: 1.2em;}#sk-container-id-7 div.sk-label-container {text-align: center;}#sk-container-id-7 div.sk-container {/* jupyter's `normalize.less` sets `[hidden] { display: none; }` but bootstrap.min.css set `[hidden] { display: none !important; }` so we also need the `!important` here to be able to override the default hidden behavior on the sphinx rendered scikit-learn.org. See: https://github.com/scikit-learn/scikit-learn/issues/21755 */display: inline-block !important;position: relative;}#sk-container-id-7 div.sk-text-repr-fallback {display: none;}</style><div id=\"sk-container-id-7\" class=\"sk-top-container\"><div class=\"sk-text-repr-fallback\"><pre>LogisticRegression(random_state=1, solver=&#x27;liblinear&#x27;)</pre><b>In a Jupyter environment, please rerun this cell to show the HTML representation or trust the notebook. <br />On GitHub, the HTML representation is unable to render, please try loading this page with nbviewer.org.</b></div><div class=\"sk-container\" hidden><div class=\"sk-item\"><div class=\"sk-estimator sk-toggleable\"><input class=\"sk-toggleable__control sk-hidden--visually\" id=\"sk-estimator-id-7\" type=\"checkbox\" checked><label for=\"sk-estimator-id-7\" class=\"sk-toggleable__label sk-toggleable__label-arrow\">LogisticRegression</label><div class=\"sk-toggleable__content\"><pre>LogisticRegression(random_state=1, solver=&#x27;liblinear&#x27;)</pre></div></div></div></div></div>"
      ],
      "text/plain": [
       "LogisticRegression(random_state=1, solver='liblinear')"
      ]
     },
     "execution_count": 151,
     "metadata": {},
     "output_type": "execute_result"
    }
   ],
   "source": [
    "model = LogisticRegression(solver='liblinear', random_state=1)\n",
    "model.fit(X_train, y_train)"
   ]
  },
  {
   "cell_type": "code",
   "execution_count": 152,
   "metadata": {},
   "outputs": [
    {
     "data": {
      "text/plain": [
       "array([[2.37808618e-02, 9.76219138e-01],\n",
       "       [1.67187385e-02, 9.83281261e-01],\n",
       "       [2.94481522e-02, 9.70551848e-01],\n",
       "       [8.59108953e-03, 9.91408910e-01],\n",
       "       [4.78163355e-02, 9.52183664e-01],\n",
       "       [2.98236706e-01, 7.01763294e-01],\n",
       "       [2.51264896e-03, 9.97487351e-01],\n",
       "       [6.45638656e-04, 9.99354361e-01],\n",
       "       [1.78600315e-03, 9.98213997e-01],\n",
       "       [2.33962084e-01, 7.66037916e-01],\n",
       "       [6.39745594e-01, 3.60254406e-01],\n",
       "       [7.83469762e-02, 9.21653024e-01],\n",
       "       [2.77046490e-02, 9.72295351e-01],\n",
       "       [7.00898258e-04, 9.99299102e-01],\n",
       "       [2.74196665e-03, 9.97258033e-01],\n",
       "       [9.34024708e-01, 6.59752915e-02],\n",
       "       [2.34848943e-02, 9.76515106e-01],\n",
       "       [8.04943696e-03, 9.91950563e-01],\n",
       "       [8.39270201e-03, 9.91607298e-01],\n",
       "       [1.18262541e-01, 8.81737459e-01],\n",
       "       [3.95884602e-03, 9.96041154e-01],\n",
       "       [5.44205555e-01, 4.55794445e-01],\n",
       "       [8.25619259e-02, 9.17438074e-01],\n",
       "       [1.15519945e-01, 8.84480055e-01],\n",
       "       [4.15381928e-03, 9.95846181e-01],\n",
       "       [1.21023876e-02, 9.87897612e-01],\n",
       "       [3.48477102e-04, 9.99651523e-01],\n",
       "       [4.28593240e-03, 9.95714068e-01],\n",
       "       [2.57144281e-01, 7.42855719e-01],\n",
       "       [2.29188548e-02, 9.77081145e-01],\n",
       "       [4.68127442e-02, 9.53187256e-01],\n",
       "       [2.18663815e-03, 9.97813362e-01],\n",
       "       [7.89689849e-02, 9.21031015e-01],\n",
       "       [2.11254297e-02, 9.78874570e-01],\n",
       "       [9.79231563e-04, 9.99020768e-01],\n",
       "       [9.94878757e-03, 9.90051212e-01],\n",
       "       [3.38962243e-02, 9.66103776e-01],\n",
       "       [8.96612000e-02, 9.10338800e-01],\n",
       "       [4.32125895e-03, 9.95678741e-01],\n",
       "       [2.38178193e-01, 7.61821807e-01],\n",
       "       [1.77524199e-02, 9.82247580e-01],\n",
       "       [5.06845566e-02, 9.49315443e-01],\n",
       "       [7.46062324e-02, 9.25393768e-01],\n",
       "       [1.32979579e-01, 8.67020421e-01],\n",
       "       [1.91479192e-02, 9.80852081e-01],\n",
       "       [2.45175870e-02, 9.75482413e-01],\n",
       "       [1.62378287e-01, 8.37621713e-01],\n",
       "       [5.64173329e-01, 4.35826671e-01],\n",
       "       [1.10946700e-07, 9.99999889e-01],\n",
       "       [1.48784165e-02, 9.85121583e-01],\n",
       "       [4.77244700e-02, 9.52275530e-01],\n",
       "       [1.80108914e-01, 8.19891086e-01],\n",
       "       [2.02514107e-01, 7.97485893e-01],\n",
       "       [2.64042111e-01, 7.35957889e-01],\n",
       "       [3.23629958e-02, 9.67637004e-01],\n",
       "       [9.22027509e-03, 9.90779725e-01],\n",
       "       [1.43994224e-05, 9.99985601e-01],\n",
       "       [4.35072166e-02, 9.56492783e-01],\n",
       "       [2.75894637e-05, 9.99972411e-01],\n",
       "       [3.62583100e-02, 9.63741690e-01],\n",
       "       [5.87157407e-03, 9.94128426e-01],\n",
       "       [4.80414050e-05, 9.99951959e-01],\n",
       "       [6.67062690e-04, 9.99332937e-01],\n",
       "       [3.90281388e-01, 6.09718612e-01],\n",
       "       [1.19060147e-01, 8.80939853e-01],\n",
       "       [5.20580471e-02, 9.47941953e-01],\n",
       "       [6.06559733e-03, 9.93934403e-01],\n",
       "       [8.10971572e-03, 9.91890284e-01],\n",
       "       [7.39314666e-01, 2.60685334e-01],\n",
       "       [2.73591159e-05, 9.99972641e-01],\n",
       "       [5.14442674e-02, 9.48555733e-01],\n",
       "       [3.72073602e-02, 9.62792640e-01],\n",
       "       [4.57346652e-03, 9.95426533e-01],\n",
       "       [6.06376239e-03, 9.93936238e-01],\n",
       "       [6.66712999e-04, 9.99333287e-01],\n",
       "       [1.53669611e-01, 8.46330389e-01],\n",
       "       [8.49640818e-02, 9.15035918e-01],\n",
       "       [1.01442950e-01, 8.98557050e-01],\n",
       "       [5.93524011e-02, 9.40647599e-01],\n",
       "       [6.41787192e-02, 9.35821281e-01],\n",
       "       [4.10416695e-03, 9.95895833e-01],\n",
       "       [2.75692443e-03, 9.97243076e-01],\n",
       "       [5.18043154e-02, 9.48195685e-01],\n",
       "       [1.47583553e-02, 9.85241645e-01],\n",
       "       [2.00388380e-03, 9.97996116e-01],\n",
       "       [5.10002200e-02, 9.48999780e-01],\n",
       "       [5.15061977e-02, 9.48493802e-01],\n",
       "       [4.61451596e-04, 9.99538548e-01],\n",
       "       [3.20257921e-01, 6.79742079e-01],\n",
       "       [7.12382938e-02, 9.28761706e-01],\n",
       "       [2.19094950e-02, 9.78090505e-01],\n",
       "       [1.20593613e-02, 9.87940639e-01],\n",
       "       [8.39252015e-03, 9.91607480e-01],\n",
       "       [9.26269378e-02, 9.07373062e-01],\n",
       "       [8.54722583e-03, 9.91452774e-01],\n",
       "       [4.70420081e-02, 9.52957992e-01],\n",
       "       [3.15737807e-04, 9.99684262e-01],\n",
       "       [3.73251750e-01, 6.26748250e-01],\n",
       "       [2.63037708e-04, 9.99736962e-01],\n",
       "       [8.75053502e-03, 9.91249465e-01],\n",
       "       [1.30914459e-02, 9.86908554e-01],\n",
       "       [3.74735784e-02, 9.62526422e-01],\n",
       "       [2.97202491e-03, 9.97027975e-01],\n",
       "       [2.67530981e-03, 9.97324690e-01],\n",
       "       [2.87415377e-02, 9.71258462e-01],\n",
       "       [1.57170756e-02, 9.84282924e-01],\n",
       "       [9.92355291e-01, 7.64470871e-03],\n",
       "       [9.38129464e-02, 9.06187054e-01],\n",
       "       [1.18115749e-01, 8.81884251e-01],\n",
       "       [1.14980890e-01, 8.85019110e-01],\n",
       "       [3.95999600e-03, 9.96040004e-01],\n",
       "       [6.83681947e-04, 9.99316318e-01],\n",
       "       [1.17757670e-02, 9.88224233e-01],\n",
       "       [6.31150081e-03, 9.93688499e-01],\n",
       "       [5.67659106e-03, 9.94323409e-01],\n",
       "       [3.39130641e-03, 9.96608694e-01],\n",
       "       [7.29978209e-02, 9.27002179e-01],\n",
       "       [1.92831617e-02, 9.80716838e-01],\n",
       "       [1.37610381e-02, 9.86238962e-01],\n",
       "       [7.35986598e-04, 9.99264013e-01],\n",
       "       [8.47700523e-02, 9.15229948e-01],\n",
       "       [1.59312687e-01, 8.40687313e-01],\n",
       "       [1.71121743e-03, 9.98288783e-01],\n",
       "       [9.88128354e-05, 9.99901187e-01],\n",
       "       [5.61444285e-02, 9.43855572e-01],\n",
       "       [2.23776116e-01, 7.76223884e-01],\n",
       "       [1.20782305e-03, 9.98792177e-01],\n",
       "       [6.53683197e-03, 9.93463168e-01],\n",
       "       [2.67685836e-04, 9.99732314e-01],\n",
       "       [7.57024066e-03, 9.92429759e-01],\n",
       "       [2.24781506e-02, 9.77521849e-01],\n",
       "       [2.67771071e-02, 9.73222893e-01],\n",
       "       [1.23081782e-02, 9.87691822e-01],\n",
       "       [3.26489320e-01, 6.73510680e-01],\n",
       "       [1.84476633e-02, 9.81552337e-01],\n",
       "       [5.30153603e-03, 9.94698464e-01],\n",
       "       [6.80394303e-02, 9.31960570e-01],\n",
       "       [2.11883773e-02, 9.78811623e-01],\n",
       "       [6.77917014e-02, 9.32208299e-01],\n",
       "       [2.22792865e-01, 7.77207135e-01],\n",
       "       [6.63426773e-02, 9.33657323e-01],\n",
       "       [1.03045232e-03, 9.98969548e-01],\n",
       "       [3.43703638e-02, 9.65629636e-01],\n",
       "       [3.52196873e-01, 6.47803127e-01],\n",
       "       [7.64380598e-02, 9.23561940e-01],\n",
       "       [2.10164917e-02, 9.78983508e-01],\n",
       "       [1.61035706e-02, 9.83896429e-01],\n",
       "       [6.30523416e-02, 9.36947658e-01],\n",
       "       [7.29925839e-02, 9.27007416e-01],\n",
       "       [3.95165092e-02, 9.60483491e-01],\n",
       "       [4.58952282e-03, 9.95410477e-01],\n",
       "       [2.58943570e-03, 9.97410564e-01],\n",
       "       [7.29244479e-02, 9.27075552e-01],\n",
       "       [1.10592700e-02, 9.88940730e-01],\n",
       "       [3.74317362e-02, 9.62568264e-01],\n",
       "       [1.81594573e-02, 9.81840543e-01],\n",
       "       [1.06473572e-02, 9.89352643e-01],\n",
       "       [1.05480509e-01, 8.94519491e-01],\n",
       "       [5.78215979e-03, 9.94217840e-01],\n",
       "       [1.23861667e-03, 9.98761383e-01],\n",
       "       [4.85646891e-03, 9.95143531e-01],\n",
       "       [2.16858410e-01, 7.83141590e-01],\n",
       "       [4.95986730e-02, 9.50401327e-01],\n",
       "       [9.99999861e-01, 1.39050110e-07],\n",
       "       [8.68318812e-02, 9.13168119e-01],\n",
       "       [1.44473155e-01, 8.55526845e-01],\n",
       "       [3.66489061e-02, 9.63351094e-01],\n",
       "       [9.06950561e-04, 9.99093049e-01],\n",
       "       [5.37190048e-02, 9.46280995e-01],\n",
       "       [9.25119297e-03, 9.90748807e-01],\n",
       "       [1.39035064e-02, 9.86096494e-01],\n",
       "       [1.31845612e-02, 9.86815439e-01],\n",
       "       [4.50749372e-02, 9.54925063e-01],\n",
       "       [9.99444739e-01, 5.55261216e-04],\n",
       "       [8.86836757e-02, 9.11316324e-01],\n",
       "       [1.36436310e-04, 9.99863564e-01],\n",
       "       [1.02634794e-03, 9.98973652e-01],\n",
       "       [9.44746983e-02, 9.05525302e-01],\n",
       "       [2.61013753e-03, 9.97389862e-01],\n",
       "       [2.93570916e-03, 9.97064291e-01],\n",
       "       [2.31334201e-02, 9.76866580e-01],\n",
       "       [6.23687237e-02, 9.37631276e-01],\n",
       "       [3.87657567e-02, 9.61234243e-01],\n",
       "       [1.17952967e-01, 8.82047033e-01],\n",
       "       [1.11745221e-01, 8.88254779e-01],\n",
       "       [1.01341636e-02, 9.89865836e-01],\n",
       "       [1.32352976e-01, 8.67647024e-01],\n",
       "       [2.24999434e-03, 9.97750006e-01],\n",
       "       [5.25309892e-02, 9.47469011e-01],\n",
       "       [1.11873238e-02, 9.88812676e-01],\n",
       "       [1.40528265e-02, 9.85947174e-01],\n",
       "       [4.77831738e-03, 9.95221683e-01],\n",
       "       [2.79928994e-02, 9.72007101e-01],\n",
       "       [1.61971522e-04, 9.99838028e-01],\n",
       "       [3.43023609e-02, 9.65697639e-01],\n",
       "       [9.62519342e-01, 3.74806584e-02],\n",
       "       [1.36432184e-01, 8.63567816e-01],\n",
       "       [1.87589228e-03, 9.98124108e-01],\n",
       "       [1.05724215e-02, 9.89427579e-01],\n",
       "       [7.59212429e-03, 9.92407876e-01],\n",
       "       [3.22383248e-01, 6.77616752e-01],\n",
       "       [1.34366025e-05, 9.99986563e-01],\n",
       "       [3.43920292e-06, 9.99996561e-01],\n",
       "       [8.18747332e-08, 9.99999918e-01],\n",
       "       [2.71043437e-02, 9.72895656e-01],\n",
       "       [1.11685368e-01, 8.88314632e-01],\n",
       "       [1.34806577e-01, 8.65193423e-01],\n",
       "       [1.56776734e-01, 8.43223266e-01],\n",
       "       [1.31793689e-03, 9.98682063e-01],\n",
       "       [6.97189659e-03, 9.93028103e-01],\n",
       "       [6.09413221e-02, 9.39058678e-01],\n",
       "       [5.10463944e-03, 9.94895361e-01],\n",
       "       [1.45811890e-02, 9.85418811e-01],\n",
       "       [1.59145371e-03, 9.98408546e-01],\n",
       "       [1.14576999e-03, 9.98854230e-01],\n",
       "       [2.12369395e-01, 7.87630605e-01],\n",
       "       [7.32367270e-02, 9.26763273e-01],\n",
       "       [5.04227953e-02, 9.49577205e-01],\n",
       "       [2.20553143e-01, 7.79446857e-01],\n",
       "       [1.07468277e-02, 9.89253172e-01],\n",
       "       [9.78509459e-02, 9.02149054e-01],\n",
       "       [7.85776588e-02, 9.21422341e-01],\n",
       "       [6.27816629e-02, 9.37218337e-01],\n",
       "       [7.35742003e-04, 9.99264258e-01],\n",
       "       [3.59651075e-03, 9.96403489e-01],\n",
       "       [1.45137886e-02, 9.85486211e-01],\n",
       "       [1.42365320e-02, 9.85763468e-01],\n",
       "       [1.84126191e-04, 9.99815874e-01],\n",
       "       [2.82208378e-02, 9.71779162e-01],\n",
       "       [1.87071576e-03, 9.98129284e-01],\n",
       "       [9.92427042e-01, 7.57295765e-03],\n",
       "       [1.27436855e-02, 9.87256315e-01],\n",
       "       [2.11218818e-02, 9.78878118e-01],\n",
       "       [1.25012485e-03, 9.98749875e-01],\n",
       "       [4.85198411e-02, 9.51480159e-01],\n",
       "       [3.36718632e-02, 9.66328137e-01],\n",
       "       [5.30981068e-02, 9.46901893e-01],\n",
       "       [5.57174291e-03, 9.94428257e-01],\n",
       "       [8.73982600e-02, 9.12601740e-01],\n",
       "       [3.97325161e-02, 9.60267484e-01],\n",
       "       [5.60247130e-02, 9.43975287e-01],\n",
       "       [3.63275288e-02, 9.63672471e-01],\n",
       "       [6.40180330e-01, 3.59819670e-01],\n",
       "       [1.52221270e-02, 9.84777873e-01],\n",
       "       [3.10263971e-06, 9.99996897e-01],\n",
       "       [5.67928786e-02, 9.43207121e-01],\n",
       "       [9.34618238e-03, 9.90653818e-01],\n",
       "       [2.04216756e-01, 7.95783244e-01],\n",
       "       [1.77755775e-02, 9.82224422e-01],\n",
       "       [5.90751684e-02, 9.40924832e-01],\n",
       "       [5.20831736e-02, 9.47916826e-01],\n",
       "       [3.05093231e-03, 9.96949068e-01],\n",
       "       [3.96984293e-01, 6.03015707e-01],\n",
       "       [1.24220904e-05, 9.99987578e-01],\n",
       "       [2.43257089e-02, 9.75674291e-01],\n",
       "       [2.00051104e-02, 9.79994890e-01],\n",
       "       [2.81137946e-02, 9.71886205e-01],\n",
       "       [4.66442186e-02, 9.53355781e-01],\n",
       "       [1.50378790e-02, 9.84962121e-01],\n",
       "       [3.38066536e-02, 9.66193346e-01],\n",
       "       [1.19760277e-02, 9.88023972e-01],\n",
       "       [9.80972241e-03, 9.90190278e-01],\n",
       "       [1.14461702e-01, 8.85538298e-01],\n",
       "       [5.61544407e-03, 9.94384556e-01],\n",
       "       [9.27049094e-03, 9.90729509e-01],\n",
       "       [2.46967150e-02, 9.75303285e-01],\n",
       "       [3.70375416e-03, 9.96296246e-01],\n",
       "       [1.64841892e-02, 9.83515811e-01],\n",
       "       [2.24931717e-02, 9.77506828e-01],\n",
       "       [3.08621512e-01, 6.91378488e-01],\n",
       "       [1.36676048e-02, 9.86332395e-01],\n",
       "       [3.33151315e-02, 9.66684869e-01],\n",
       "       [1.29415977e-01, 8.70584023e-01],\n",
       "       [2.41357045e-02, 9.75864296e-01],\n",
       "       [1.55911045e-01, 8.44088955e-01],\n",
       "       [4.44650789e-02, 9.55534921e-01],\n",
       "       [3.51930459e-07, 9.99999648e-01],\n",
       "       [2.53810679e-03, 9.97461893e-01],\n",
       "       [5.08261518e-03, 9.94917385e-01],\n",
       "       [8.44351446e-02, 9.15564855e-01],\n",
       "       [3.95715611e-02, 9.60428439e-01],\n",
       "       [9.82469532e-03, 9.90175305e-01],\n",
       "       [7.85891537e-04, 9.99214108e-01],\n",
       "       [5.38647250e-02, 9.46135275e-01],\n",
       "       [7.06166645e-06, 9.99992938e-01],\n",
       "       [1.07977271e-03, 9.98920227e-01],\n",
       "       [1.29446891e-01, 8.70553109e-01],\n",
       "       [1.89856751e-01, 8.10143249e-01],\n",
       "       [4.21753066e-02, 9.57824693e-01],\n",
       "       [6.27045955e-01, 3.72954045e-01],\n",
       "       [1.37091553e-02, 9.86290845e-01],\n",
       "       [1.87288015e-02, 9.81271199e-01],\n",
       "       [4.34390291e-04, 9.99565610e-01],\n",
       "       [4.97957409e-04, 9.99502043e-01],\n",
       "       [9.61666791e-03, 9.90383332e-01],\n",
       "       [2.29033445e-02, 9.77096656e-01],\n",
       "       [4.37108537e-02, 9.56289146e-01],\n",
       "       [2.32339248e-01, 7.67660752e-01],\n",
       "       [2.93604361e-01, 7.06395639e-01],\n",
       "       [1.56347142e-01, 8.43652858e-01],\n",
       "       [2.30800722e-03, 9.97691993e-01],\n",
       "       [1.08091428e-01, 8.91908572e-01],\n",
       "       [9.50000229e-03, 9.90499998e-01],\n",
       "       [6.57809952e-02, 9.34219005e-01],\n",
       "       [1.29278475e-02, 9.87072153e-01],\n",
       "       [3.91496373e-01, 6.08503627e-01],\n",
       "       [1.79984703e-01, 8.20015297e-01],\n",
       "       [2.07737109e-03, 9.97922629e-01],\n",
       "       [7.58239729e-02, 9.24176027e-01],\n",
       "       [3.72565249e-02, 9.62743475e-01],\n",
       "       [4.67283889e-03, 9.95327161e-01],\n",
       "       [8.01858493e-02, 9.19814151e-01],\n",
       "       [6.70363426e-03, 9.93296366e-01],\n",
       "       [4.71492248e-04, 9.99528508e-01],\n",
       "       [1.15053592e-03, 9.98849464e-01],\n",
       "       [7.34090697e-01, 2.65909303e-01],\n",
       "       [1.28077094e-01, 8.71922906e-01],\n",
       "       [6.09387389e-02, 9.39061261e-01],\n",
       "       [2.89231015e-01, 7.10768985e-01],\n",
       "       [4.11721628e-02, 9.58827837e-01],\n",
       "       [6.53449163e-03, 9.93465508e-01],\n",
       "       [2.05446251e-03, 9.97945537e-01],\n",
       "       [1.93311669e-02, 9.80668833e-01],\n",
       "       [2.23345253e-03, 9.97766547e-01],\n",
       "       [3.68367981e-01, 6.31632019e-01],\n",
       "       [1.60110371e-02, 9.83988963e-01],\n",
       "       [7.09442543e-02, 9.29055746e-01],\n",
       "       [2.78519540e-03, 9.97214805e-01],\n",
       "       [7.62910347e-02, 9.23708965e-01],\n",
       "       [4.29568720e-03, 9.95704313e-01],\n",
       "       [7.58565268e-03, 9.92414347e-01],\n",
       "       [3.03740043e-02, 9.69625996e-01],\n",
       "       [8.92875861e-02, 9.10712414e-01],\n",
       "       [3.27866847e-02, 9.67213315e-01],\n",
       "       [1.57321463e-02, 9.84267854e-01],\n",
       "       [4.32137276e-08, 9.99999957e-01],\n",
       "       [1.52182611e-03, 9.98478174e-01],\n",
       "       [4.09423685e-03, 9.95905763e-01],\n",
       "       [1.02036940e-01, 8.97963060e-01],\n",
       "       [6.78529921e-03, 9.93214701e-01],\n",
       "       [2.34246181e-02, 9.76575382e-01],\n",
       "       [6.86062685e-03, 9.93139373e-01],\n",
       "       [9.03049952e-02, 9.09695005e-01],\n",
       "       [6.27045955e-01, 3.72954045e-01],\n",
       "       [7.37024953e-05, 9.99926298e-01],\n",
       "       [3.29062414e-01, 6.70937586e-01],\n",
       "       [6.77463199e-03, 9.93225368e-01],\n",
       "       [1.43308044e-01, 8.56691956e-01],\n",
       "       [2.52121687e-04, 9.99747878e-01],\n",
       "       [4.26537974e-02, 9.57346203e-01],\n",
       "       [3.71090814e-03, 9.96289092e-01],\n",
       "       [3.52078497e-02, 9.64792150e-01],\n",
       "       [4.17970289e-02, 9.58202971e-01],\n",
       "       [2.18498664e-02, 9.78150134e-01],\n",
       "       [4.99986898e-02, 9.50001310e-01],\n",
       "       [1.19031837e-01, 8.80968163e-01],\n",
       "       [2.19729209e-04, 9.99780271e-01],\n",
       "       [1.36172332e-02, 9.86382767e-01],\n",
       "       [8.35930735e-02, 9.16406927e-01],\n",
       "       [2.28926204e-03, 9.97710738e-01],\n",
       "       [3.91225284e-02, 9.60877472e-01],\n",
       "       [2.60266190e-02, 9.73973381e-01],\n",
       "       [4.10374410e-02, 9.58962559e-01],\n",
       "       [2.80612177e-02, 9.71938782e-01],\n",
       "       [3.96231983e-02, 9.60376802e-01],\n",
       "       [1.59145371e-03, 9.98408546e-01],\n",
       "       [3.61583989e-03, 9.96384160e-01],\n",
       "       [1.62896483e-03, 9.98371035e-01],\n",
       "       [1.03591267e-02, 9.89640873e-01],\n",
       "       [4.17755910e-04, 9.99582244e-01],\n",
       "       [6.41610253e-02, 9.35838975e-01],\n",
       "       [1.30279018e-01, 8.69720982e-01],\n",
       "       [9.99993299e-01, 6.70147828e-06],\n",
       "       [1.48317693e-01, 8.51682307e-01],\n",
       "       [1.27073200e-02, 9.87292680e-01],\n",
       "       [4.45849721e-02, 9.55415028e-01],\n",
       "       [2.03783333e-02, 9.79621667e-01],\n",
       "       [2.19383941e-01, 7.80616059e-01],\n",
       "       [3.14267382e-05, 9.99968573e-01],\n",
       "       [1.38506090e-02, 9.86149391e-01],\n",
       "       [2.91957684e-01, 7.08042316e-01],\n",
       "       [3.57414240e-02, 9.64258576e-01],\n",
       "       [1.00413267e-02, 9.89958673e-01],\n",
       "       [7.93552635e-02, 9.20644736e-01],\n",
       "       [4.88728036e-04, 9.99511272e-01],\n",
       "       [9.73482110e-03, 9.90265179e-01],\n",
       "       [3.29556897e-03, 9.96704431e-01],\n",
       "       [3.56654303e-02, 9.64334570e-01],\n",
       "       [1.31210589e-03, 9.98687894e-01],\n",
       "       [1.72931180e-04, 9.99827069e-01]])"
      ]
     },
     "execution_count": 152,
     "metadata": {},
     "output_type": "execute_result"
    }
   ],
   "source": [
    "model.predict_proba(X_val)"
   ]
  },
  {
   "cell_type": "code",
   "execution_count": 153,
   "metadata": {},
   "outputs": [],
   "source": [
    "y_pred = model.predict_proba(X_val)[:, 1]"
   ]
  },
  {
   "cell_type": "code",
   "execution_count": 154,
   "metadata": {},
   "outputs": [
    {
     "data": {
      "text/plain": [
       "array([9.76219138e-01, 9.83281261e-01, 9.70551848e-01, 9.91408910e-01,\n",
       "       9.52183664e-01, 7.01763294e-01, 9.97487351e-01, 9.99354361e-01,\n",
       "       9.98213997e-01, 7.66037916e-01, 3.60254406e-01, 9.21653024e-01,\n",
       "       9.72295351e-01, 9.99299102e-01, 9.97258033e-01, 6.59752915e-02,\n",
       "       9.76515106e-01, 9.91950563e-01, 9.91607298e-01, 8.81737459e-01,\n",
       "       9.96041154e-01, 4.55794445e-01, 9.17438074e-01, 8.84480055e-01,\n",
       "       9.95846181e-01, 9.87897612e-01, 9.99651523e-01, 9.95714068e-01,\n",
       "       7.42855719e-01, 9.77081145e-01, 9.53187256e-01, 9.97813362e-01,\n",
       "       9.21031015e-01, 9.78874570e-01, 9.99020768e-01, 9.90051212e-01,\n",
       "       9.66103776e-01, 9.10338800e-01, 9.95678741e-01, 7.61821807e-01,\n",
       "       9.82247580e-01, 9.49315443e-01, 9.25393768e-01, 8.67020421e-01,\n",
       "       9.80852081e-01, 9.75482413e-01, 8.37621713e-01, 4.35826671e-01,\n",
       "       9.99999889e-01, 9.85121583e-01, 9.52275530e-01, 8.19891086e-01,\n",
       "       7.97485893e-01, 7.35957889e-01, 9.67637004e-01, 9.90779725e-01,\n",
       "       9.99985601e-01, 9.56492783e-01, 9.99972411e-01, 9.63741690e-01,\n",
       "       9.94128426e-01, 9.99951959e-01, 9.99332937e-01, 6.09718612e-01,\n",
       "       8.80939853e-01, 9.47941953e-01, 9.93934403e-01, 9.91890284e-01,\n",
       "       2.60685334e-01, 9.99972641e-01, 9.48555733e-01, 9.62792640e-01,\n",
       "       9.95426533e-01, 9.93936238e-01, 9.99333287e-01, 8.46330389e-01,\n",
       "       9.15035918e-01, 8.98557050e-01, 9.40647599e-01, 9.35821281e-01,\n",
       "       9.95895833e-01, 9.97243076e-01, 9.48195685e-01, 9.85241645e-01,\n",
       "       9.97996116e-01, 9.48999780e-01, 9.48493802e-01, 9.99538548e-01,\n",
       "       6.79742079e-01, 9.28761706e-01, 9.78090505e-01, 9.87940639e-01,\n",
       "       9.91607480e-01, 9.07373062e-01, 9.91452774e-01, 9.52957992e-01,\n",
       "       9.99684262e-01, 6.26748250e-01, 9.99736962e-01, 9.91249465e-01,\n",
       "       9.86908554e-01, 9.62526422e-01, 9.97027975e-01, 9.97324690e-01,\n",
       "       9.71258462e-01, 9.84282924e-01, 7.64470871e-03, 9.06187054e-01,\n",
       "       8.81884251e-01, 8.85019110e-01, 9.96040004e-01, 9.99316318e-01,\n",
       "       9.88224233e-01, 9.93688499e-01, 9.94323409e-01, 9.96608694e-01,\n",
       "       9.27002179e-01, 9.80716838e-01, 9.86238962e-01, 9.99264013e-01,\n",
       "       9.15229948e-01, 8.40687313e-01, 9.98288783e-01, 9.99901187e-01,\n",
       "       9.43855572e-01, 7.76223884e-01, 9.98792177e-01, 9.93463168e-01,\n",
       "       9.99732314e-01, 9.92429759e-01, 9.77521849e-01, 9.73222893e-01,\n",
       "       9.87691822e-01, 6.73510680e-01, 9.81552337e-01, 9.94698464e-01,\n",
       "       9.31960570e-01, 9.78811623e-01, 9.32208299e-01, 7.77207135e-01,\n",
       "       9.33657323e-01, 9.98969548e-01, 9.65629636e-01, 6.47803127e-01,\n",
       "       9.23561940e-01, 9.78983508e-01, 9.83896429e-01, 9.36947658e-01,\n",
       "       9.27007416e-01, 9.60483491e-01, 9.95410477e-01, 9.97410564e-01,\n",
       "       9.27075552e-01, 9.88940730e-01, 9.62568264e-01, 9.81840543e-01,\n",
       "       9.89352643e-01, 8.94519491e-01, 9.94217840e-01, 9.98761383e-01,\n",
       "       9.95143531e-01, 7.83141590e-01, 9.50401327e-01, 1.39050110e-07,\n",
       "       9.13168119e-01, 8.55526845e-01, 9.63351094e-01, 9.99093049e-01,\n",
       "       9.46280995e-01, 9.90748807e-01, 9.86096494e-01, 9.86815439e-01,\n",
       "       9.54925063e-01, 5.55261216e-04, 9.11316324e-01, 9.99863564e-01,\n",
       "       9.98973652e-01, 9.05525302e-01, 9.97389862e-01, 9.97064291e-01,\n",
       "       9.76866580e-01, 9.37631276e-01, 9.61234243e-01, 8.82047033e-01,\n",
       "       8.88254779e-01, 9.89865836e-01, 8.67647024e-01, 9.97750006e-01,\n",
       "       9.47469011e-01, 9.88812676e-01, 9.85947174e-01, 9.95221683e-01,\n",
       "       9.72007101e-01, 9.99838028e-01, 9.65697639e-01, 3.74806584e-02,\n",
       "       8.63567816e-01, 9.98124108e-01, 9.89427579e-01, 9.92407876e-01,\n",
       "       6.77616752e-01, 9.99986563e-01, 9.99996561e-01, 9.99999918e-01,\n",
       "       9.72895656e-01, 8.88314632e-01, 8.65193423e-01, 8.43223266e-01,\n",
       "       9.98682063e-01, 9.93028103e-01, 9.39058678e-01, 9.94895361e-01,\n",
       "       9.85418811e-01, 9.98408546e-01, 9.98854230e-01, 7.87630605e-01,\n",
       "       9.26763273e-01, 9.49577205e-01, 7.79446857e-01, 9.89253172e-01,\n",
       "       9.02149054e-01, 9.21422341e-01, 9.37218337e-01, 9.99264258e-01,\n",
       "       9.96403489e-01, 9.85486211e-01, 9.85763468e-01, 9.99815874e-01,\n",
       "       9.71779162e-01, 9.98129284e-01, 7.57295765e-03, 9.87256315e-01,\n",
       "       9.78878118e-01, 9.98749875e-01, 9.51480159e-01, 9.66328137e-01,\n",
       "       9.46901893e-01, 9.94428257e-01, 9.12601740e-01, 9.60267484e-01,\n",
       "       9.43975287e-01, 9.63672471e-01, 3.59819670e-01, 9.84777873e-01,\n",
       "       9.99996897e-01, 9.43207121e-01, 9.90653818e-01, 7.95783244e-01,\n",
       "       9.82224422e-01, 9.40924832e-01, 9.47916826e-01, 9.96949068e-01,\n",
       "       6.03015707e-01, 9.99987578e-01, 9.75674291e-01, 9.79994890e-01,\n",
       "       9.71886205e-01, 9.53355781e-01, 9.84962121e-01, 9.66193346e-01,\n",
       "       9.88023972e-01, 9.90190278e-01, 8.85538298e-01, 9.94384556e-01,\n",
       "       9.90729509e-01, 9.75303285e-01, 9.96296246e-01, 9.83515811e-01,\n",
       "       9.77506828e-01, 6.91378488e-01, 9.86332395e-01, 9.66684869e-01,\n",
       "       8.70584023e-01, 9.75864296e-01, 8.44088955e-01, 9.55534921e-01,\n",
       "       9.99999648e-01, 9.97461893e-01, 9.94917385e-01, 9.15564855e-01,\n",
       "       9.60428439e-01, 9.90175305e-01, 9.99214108e-01, 9.46135275e-01,\n",
       "       9.99992938e-01, 9.98920227e-01, 8.70553109e-01, 8.10143249e-01,\n",
       "       9.57824693e-01, 3.72954045e-01, 9.86290845e-01, 9.81271199e-01,\n",
       "       9.99565610e-01, 9.99502043e-01, 9.90383332e-01, 9.77096656e-01,\n",
       "       9.56289146e-01, 7.67660752e-01, 7.06395639e-01, 8.43652858e-01,\n",
       "       9.97691993e-01, 8.91908572e-01, 9.90499998e-01, 9.34219005e-01,\n",
       "       9.87072153e-01, 6.08503627e-01, 8.20015297e-01, 9.97922629e-01,\n",
       "       9.24176027e-01, 9.62743475e-01, 9.95327161e-01, 9.19814151e-01,\n",
       "       9.93296366e-01, 9.99528508e-01, 9.98849464e-01, 2.65909303e-01,\n",
       "       8.71922906e-01, 9.39061261e-01, 7.10768985e-01, 9.58827837e-01,\n",
       "       9.93465508e-01, 9.97945537e-01, 9.80668833e-01, 9.97766547e-01,\n",
       "       6.31632019e-01, 9.83988963e-01, 9.29055746e-01, 9.97214805e-01,\n",
       "       9.23708965e-01, 9.95704313e-01, 9.92414347e-01, 9.69625996e-01,\n",
       "       9.10712414e-01, 9.67213315e-01, 9.84267854e-01, 9.99999957e-01,\n",
       "       9.98478174e-01, 9.95905763e-01, 8.97963060e-01, 9.93214701e-01,\n",
       "       9.76575382e-01, 9.93139373e-01, 9.09695005e-01, 3.72954045e-01,\n",
       "       9.99926298e-01, 6.70937586e-01, 9.93225368e-01, 8.56691956e-01,\n",
       "       9.99747878e-01, 9.57346203e-01, 9.96289092e-01, 9.64792150e-01,\n",
       "       9.58202971e-01, 9.78150134e-01, 9.50001310e-01, 8.80968163e-01,\n",
       "       9.99780271e-01, 9.86382767e-01, 9.16406927e-01, 9.97710738e-01,\n",
       "       9.60877472e-01, 9.73973381e-01, 9.58962559e-01, 9.71938782e-01,\n",
       "       9.60376802e-01, 9.98408546e-01, 9.96384160e-01, 9.98371035e-01,\n",
       "       9.89640873e-01, 9.99582244e-01, 9.35838975e-01, 8.69720982e-01,\n",
       "       6.70147828e-06, 8.51682307e-01, 9.87292680e-01, 9.55415028e-01,\n",
       "       9.79621667e-01, 7.80616059e-01, 9.99968573e-01, 9.86149391e-01,\n",
       "       7.08042316e-01, 9.64258576e-01, 9.89958673e-01, 9.20644736e-01,\n",
       "       9.99511272e-01, 9.90265179e-01, 9.96704431e-01, 9.64334570e-01,\n",
       "       9.98687894e-01, 9.99827069e-01])"
      ]
     },
     "execution_count": 154,
     "metadata": {},
     "output_type": "execute_result"
    }
   ],
   "source": [
    "# These are all the predicted probabilities in the entire validation subset.\n",
    "y_pred"
   ]
  },
  {
   "cell_type": "code",
   "execution_count": 155,
   "metadata": {},
   "outputs": [
    {
     "data": {
      "text/plain": [
       "0.9205128205128205"
      ]
     },
     "execution_count": 155,
     "metadata": {},
     "output_type": "execute_result"
    }
   ],
   "source": [
    "# Check the average probability values of predicted FDA-approved drugs\n",
    "FDA_approved = y_pred > 0.5\n",
    "(y_val == FDA_approved).mean()"
   ]
  },
  {
   "cell_type": "markdown",
   "metadata": {},
   "source": [
    "## Using the model\n",
    "\n",
    "Let us check the performance of the model by comparing model predictions with the Test set of the data. This data subset was not seen the the model during training."
   ]
  },
  {
   "cell_type": "code",
   "execution_count": 156,
   "metadata": {},
   "outputs": [],
   "source": [
    "y_pred_test = model.predict_proba(X_test)"
   ]
  },
  {
   "cell_type": "code",
   "execution_count": 157,
   "metadata": {},
   "outputs": [
    {
     "name": "stdout",
     "output_type": "stream",
     "text": [
      "Predicted Probability: 0.7591299375856597 \n",
      "Predicted FDA to Approve Drug: True \n",
      "\n",
      "Actual Empirical Probability: 1.0 \n",
      "FDA Approved Drug: True \n"
     ]
    }
   ],
   "source": [
    "# Comparing with collected data:\n",
    "\n",
    "i = 55 # vary i to check various data-points in the test subset\n",
    "\n",
    "y_pred_i = y_pred_test[i][1]\n",
    "print(f'Predicted Probability: {y_pred_i} \\nPredicted FDA to Approve Drug: {y_pred_i >0.5} \\n')\n",
    "\n",
    "y_test_i = y_test.values[i]\n",
    "print(f'Actual Empirical Probability: {y_test_i} \\nFDA Approved Drug: {y_test_i >0.5} ')"
   ]
  },
  {
   "cell_type": "markdown",
   "metadata": {},
   "source": []
  },
  {
   "cell_type": "markdown",
   "metadata": {},
   "source": [
    "## Project 2 Codes"
   ]
  },
  {
   "cell_type": "code",
   "execution_count": 158,
   "metadata": {},
   "outputs": [],
   "source": [
    "#validating data and clean up \n",
    "data_pred = model.predict_proba(X_val)[:,1]\n",
    "data_val_tf= np.where(data_pred > 0.5, 1,0) # convert values to 1 & 0 base on probability of 0.5"
   ]
  },
  {
   "cell_type": "code",
   "execution_count": 159,
   "metadata": {},
   "outputs": [],
   "source": [
    "#calculation report of validated data\n",
    "from sklearn.metrics import accuracy_score, classification_report\n",
    "\n",
    "data_accuracy = accuracy_score(y_val,data_val_tf)\n",
    "data_report = classification_report(y_val,data_val_tf)\n"
   ]
  },
  {
   "cell_type": "code",
   "execution_count": 160,
   "metadata": {},
   "outputs": [
    {
     "data": {
      "text/plain": [
       "0.9205128205128205"
      ]
     },
     "execution_count": 160,
     "metadata": {},
     "output_type": "execute_result"
    }
   ],
   "source": [
    "data_accuracy"
   ]
  },
  {
   "cell_type": "code",
   "execution_count": 161,
   "metadata": {},
   "outputs": [
    {
     "name": "stdout",
     "output_type": "stream",
     "text": [
      "         nAcid     nBase  nAromAtom  nAromBond     nAtom  nHeavyAtom  \\\n",
      "384  -0.478046 -0.652093  -0.300663  -0.318022 -0.592058   -0.585569   \n",
      "574  -0.478046  0.339786   0.602242   0.557106 -0.371071   -0.458922   \n",
      "1291  0.685618  0.339786   0.301273   0.411251 -0.307932   -0.205629   \n",
      "1161 -0.478046 -0.652093  -0.300663  -0.318022  1.617814    1.440775   \n",
      "244  -0.478046 -0.652093   0.602242   0.557106 -0.749906   -0.648892   \n",
      "...        ...       ...        ...        ...       ...         ...   \n",
      "397   0.685618 -0.652093   0.301273   0.411251 -0.655197   -0.585569   \n",
      "992   0.685618 -0.652093   0.451758   0.411251 -0.560488   -0.458922   \n",
      "1427 -0.478046 -0.652093   0.752726   0.994670 -0.844615   -0.648892   \n",
      "1046 -0.478046 -0.652093  -1.203569  -1.193150 -0.781476   -0.902185   \n",
      "648  -0.478046  0.339786   0.602242   0.557106 -0.244792   -0.395599   \n",
      "\n",
      "        nSpiro  nBridgehead   nHetero        nH  ...     SRW09     SRW10  \\\n",
      "384  -0.165193    -0.190777  0.106700 -0.564805  ... -0.966140 -0.132482   \n",
      "574  -0.165193    -0.190777 -0.740486 -0.267814  ... -0.966140 -0.336826   \n",
      "1291 -0.165193    -0.190777 -0.062738 -0.386610  ... -0.966140  0.254981   \n",
      "1161 -0.165193    -0.190777  0.953885  1.692328  ...  1.290739  0.805244   \n",
      "244  -0.165193    -0.190777 -0.401612 -0.802398  ... -0.966140 -0.508949   \n",
      "...        ...          ...       ...       ...  ...       ...       ...   \n",
      "397  -0.165193    -0.190777 -0.740486 -0.683601  ... -0.966140 -0.218018   \n",
      "992  -0.165193    -0.190777 -0.571049 -0.624203  ...  0.945000 -0.195937   \n",
      "1427 -0.165193    -0.190777 -0.571049 -0.980593  ...  0.889323 -0.045199   \n",
      "1046 -0.165193    -0.190777 -0.571049 -0.624203  ...  0.875294 -0.761850   \n",
      "648  -0.165193    -0.190777 -0.909923 -0.089619  ...  0.545101 -0.095582   \n",
      "\n",
      "        TSRW10        MW       AMW     WPath      WPol   Zagreb1   Zagreb2  \\\n",
      "384  -0.784398 -0.616433 -0.140351 -0.074259 -0.520456 -0.568050 -0.560399   \n",
      "574  -0.706827 -0.469806 -0.222892 -0.074259 -0.586537 -0.520794 -0.560399   \n",
      "1291 -0.434181 -0.280120 -0.097590 -0.074258 -0.057888 -0.166371 -0.130870   \n",
      "1161  1.797774  1.272956 -0.290570 -0.074254  1.197653  1.440345  1.411527   \n",
      "244  -0.879821 -0.737205 -0.078873 -0.074259 -0.751740 -0.686191 -0.716591   \n",
      "...        ...       ...       ...       ...       ...       ...       ...   \n",
      "397  -0.795014 -0.668294 -0.122940 -0.074259 -0.553496 -0.591678 -0.589685   \n",
      "992  -0.061718 -0.551855 -0.101576 -0.074259 -0.520456 -0.473537 -0.482303   \n",
      "1427 -0.210679 -0.724528  0.111738 -0.074259 -0.553496 -0.568050 -0.521351   \n",
      "1046 -0.520042 -0.922554 -0.310905 -0.074259 -0.916943 -0.946101 -0.941117   \n",
      "648  -0.262553 -0.504058 -0.367429 -0.074259 -0.289172 -0.402653 -0.394445   \n",
      "\n",
      "      mZagreb2  \n",
      "384  -0.611332  \n",
      "574  -0.434360  \n",
      "1291 -0.201078  \n",
      "1161  1.423851  \n",
      "244  -0.635465  \n",
      "...        ...  \n",
      "397  -0.571111  \n",
      "992  -0.466537  \n",
      "1427 -0.659597  \n",
      "1046 -0.860702  \n",
      "648  -0.345874  \n",
      "\n",
      "[790 rows x 481 columns]\n"
     ]
    }
   ],
   "source": [
    "print(X_train)"
   ]
  },
  {
   "cell_type": "code",
   "execution_count": 162,
   "metadata": {},
   "outputs": [
    {
     "name": "stdout",
     "output_type": "stream",
     "text": [
      "384     1.0\n",
      "574     1.0\n",
      "1291    1.0\n",
      "1161    1.0\n",
      "244     1.0\n",
      "       ... \n",
      "397     0.0\n",
      "992     1.0\n",
      "1427    1.0\n",
      "1046    1.0\n",
      "648     1.0\n",
      "Name: FDA_APPROVED, Length: 790, dtype: float64\n"
     ]
    }
   ],
   "source": [
    "print(y_train)"
   ]
  },
  {
   "cell_type": "code",
   "execution_count": 163,
   "metadata": {},
   "outputs": [
    {
     "name": "stdout",
     "output_type": "stream",
     "text": [
      "              precision    recall  f1-score   support\n",
      "\n",
      "         0.0       0.07      0.06      0.06        18\n",
      "         1.0       0.95      0.96      0.96       372\n",
      "\n",
      "    accuracy                           0.92       390\n",
      "   macro avg       0.51      0.51      0.51       390\n",
      "weighted avg       0.91      0.92      0.92       390\n",
      "\n"
     ]
    }
   ],
   "source": [
    "print(data_report)"
   ]
  },
  {
   "cell_type": "code",
   "execution_count": 164,
   "metadata": {},
   "outputs": [],
   "source": [
    "# from sklearn.model_selection import GridSearchCV\n",
    "# from sklearn.linear_model import LogisticRegression\n",
    "\n",
    "# # Define the parameter grid\n",
    "# param_grid = {\n",
    "#     'C': [0.001, 0.01, 0.1, 1],  # Regularization strength\n",
    "#     'penalty': ['l1', 'l2'],  # Type of penalty (L1 or L2)\n",
    "#     'solver': ['liblinear', 'saga', 'lbfgs'],  # Different solvers\n",
    "#     'max_iter': [10000]  # Maximum number of iterations\n",
    "#     # Add other hyperparameters as needed\n",
    "# }\n",
    "\n",
    "# # Create logistic regression model\n",
    "# logistic = LogisticRegression()\n",
    "\n",
    "# # Create grid search\n",
    "# grid_search = GridSearchCV(estimator=logistic, param_grid=param_grid, cv=5)\n",
    "\n",
    "# # Fit the grid search to the data\n",
    "# grid_search.fit(X_train, y_train)  # Assuming you have X_train and y_train defined\n",
    "\n",
    "# # Get the best parameters\n",
    "# best_params = grid_search.best_params_\n",
    "# print(\"Best Parameters:\", best_params)\n"
   ]
  },
  {
   "cell_type": "code",
   "execution_count": 165,
   "metadata": {},
   "outputs": [
    {
     "data": {
      "text/html": [
       "<style>#sk-container-id-8 {color: black;background-color: white;}#sk-container-id-8 pre{padding: 0;}#sk-container-id-8 div.sk-toggleable {background-color: white;}#sk-container-id-8 label.sk-toggleable__label {cursor: pointer;display: block;width: 100%;margin-bottom: 0;padding: 0.3em;box-sizing: border-box;text-align: center;}#sk-container-id-8 label.sk-toggleable__label-arrow:before {content: \"▸\";float: left;margin-right: 0.25em;color: #696969;}#sk-container-id-8 label.sk-toggleable__label-arrow:hover:before {color: black;}#sk-container-id-8 div.sk-estimator:hover label.sk-toggleable__label-arrow:before {color: black;}#sk-container-id-8 div.sk-toggleable__content {max-height: 0;max-width: 0;overflow: hidden;text-align: left;background-color: #f0f8ff;}#sk-container-id-8 div.sk-toggleable__content pre {margin: 0.2em;color: black;border-radius: 0.25em;background-color: #f0f8ff;}#sk-container-id-8 input.sk-toggleable__control:checked~div.sk-toggleable__content {max-height: 200px;max-width: 100%;overflow: auto;}#sk-container-id-8 input.sk-toggleable__control:checked~label.sk-toggleable__label-arrow:before {content: \"▾\";}#sk-container-id-8 div.sk-estimator input.sk-toggleable__control:checked~label.sk-toggleable__label {background-color: #d4ebff;}#sk-container-id-8 div.sk-label input.sk-toggleable__control:checked~label.sk-toggleable__label {background-color: #d4ebff;}#sk-container-id-8 input.sk-hidden--visually {border: 0;clip: rect(1px 1px 1px 1px);clip: rect(1px, 1px, 1px, 1px);height: 1px;margin: -1px;overflow: hidden;padding: 0;position: absolute;width: 1px;}#sk-container-id-8 div.sk-estimator {font-family: monospace;background-color: #f0f8ff;border: 1px dotted black;border-radius: 0.25em;box-sizing: border-box;margin-bottom: 0.5em;}#sk-container-id-8 div.sk-estimator:hover {background-color: #d4ebff;}#sk-container-id-8 div.sk-parallel-item::after {content: \"\";width: 100%;border-bottom: 1px solid gray;flex-grow: 1;}#sk-container-id-8 div.sk-label:hover label.sk-toggleable__label {background-color: #d4ebff;}#sk-container-id-8 div.sk-serial::before {content: \"\";position: absolute;border-left: 1px solid gray;box-sizing: border-box;top: 0;bottom: 0;left: 50%;z-index: 0;}#sk-container-id-8 div.sk-serial {display: flex;flex-direction: column;align-items: center;background-color: white;padding-right: 0.2em;padding-left: 0.2em;position: relative;}#sk-container-id-8 div.sk-item {position: relative;z-index: 1;}#sk-container-id-8 div.sk-parallel {display: flex;align-items: stretch;justify-content: center;background-color: white;position: relative;}#sk-container-id-8 div.sk-item::before, #sk-container-id-8 div.sk-parallel-item::before {content: \"\";position: absolute;border-left: 1px solid gray;box-sizing: border-box;top: 0;bottom: 0;left: 50%;z-index: -1;}#sk-container-id-8 div.sk-parallel-item {display: flex;flex-direction: column;z-index: 1;position: relative;background-color: white;}#sk-container-id-8 div.sk-parallel-item:first-child::after {align-self: flex-end;width: 50%;}#sk-container-id-8 div.sk-parallel-item:last-child::after {align-self: flex-start;width: 50%;}#sk-container-id-8 div.sk-parallel-item:only-child::after {width: 0;}#sk-container-id-8 div.sk-dashed-wrapped {border: 1px dashed gray;margin: 0 0.4em 0.5em 0.4em;box-sizing: border-box;padding-bottom: 0.4em;background-color: white;}#sk-container-id-8 div.sk-label label {font-family: monospace;font-weight: bold;display: inline-block;line-height: 1.2em;}#sk-container-id-8 div.sk-label-container {text-align: center;}#sk-container-id-8 div.sk-container {/* jupyter's `normalize.less` sets `[hidden] { display: none; }` but bootstrap.min.css set `[hidden] { display: none !important; }` so we also need the `!important` here to be able to override the default hidden behavior on the sphinx rendered scikit-learn.org. See: https://github.com/scikit-learn/scikit-learn/issues/21755 */display: inline-block !important;position: relative;}#sk-container-id-8 div.sk-text-repr-fallback {display: none;}</style><div id=\"sk-container-id-8\" class=\"sk-top-container\"><div class=\"sk-text-repr-fallback\"><pre>LogisticRegression(C=0.1, max_iter=10000, penalty=&#x27;l1&#x27;, solver=&#x27;liblinear&#x27;)</pre><b>In a Jupyter environment, please rerun this cell to show the HTML representation or trust the notebook. <br />On GitHub, the HTML representation is unable to render, please try loading this page with nbviewer.org.</b></div><div class=\"sk-container\" hidden><div class=\"sk-item\"><div class=\"sk-estimator sk-toggleable\"><input class=\"sk-toggleable__control sk-hidden--visually\" id=\"sk-estimator-id-8\" type=\"checkbox\" checked><label for=\"sk-estimator-id-8\" class=\"sk-toggleable__label sk-toggleable__label-arrow\">LogisticRegression</label><div class=\"sk-toggleable__content\"><pre>LogisticRegression(C=0.1, max_iter=10000, penalty=&#x27;l1&#x27;, solver=&#x27;liblinear&#x27;)</pre></div></div></div></div></div>"
      ],
      "text/plain": [
       "LogisticRegression(C=0.1, max_iter=10000, penalty='l1', solver='liblinear')"
      ]
     },
     "execution_count": 165,
     "metadata": {},
     "output_type": "execute_result"
    }
   ],
   "source": [
    "# Create the ideal model using the best parameters\n",
    "ideal_model = LogisticRegression(C=.1, penalty='l1', solver='liblinear', max_iter=10000)\n",
    "\n",
    "# Fit the ideal model\n",
    "ideal_model.fit(X_train, y_train)\n"
   ]
  },
  {
   "cell_type": "code",
   "execution_count": 166,
   "metadata": {},
   "outputs": [],
   "source": [
    "#validating data and clean up \n",
    "data_pred_new = ideal_model.predict_proba(X_val)[:,1]\n",
    "data_val_tf_new= np.where(data_pred_new > 0.5, 1,0) # convert values to 1 & 0 base on probability of 0.5"
   ]
  },
  {
   "cell_type": "code",
   "execution_count": 167,
   "metadata": {},
   "outputs": [],
   "source": [
    "#calculation report of validated data\n",
    "from sklearn.metrics import accuracy_score, classification_report\n",
    "\n",
    "data_accuracy_new = accuracy_score(y_val,data_val_tf_new)\n",
    "data_report_new = classification_report(y_val,data_val_tf_new)"
   ]
  },
  {
   "cell_type": "code",
   "execution_count": 168,
   "metadata": {},
   "outputs": [
    {
     "data": {
      "text/plain": [
       "0.9512820512820512"
      ]
     },
     "execution_count": 168,
     "metadata": {},
     "output_type": "execute_result"
    }
   ],
   "source": [
    "data_accuracy_new"
   ]
  },
  {
   "cell_type": "code",
   "execution_count": 169,
   "metadata": {},
   "outputs": [
    {
     "name": "stdout",
     "output_type": "stream",
     "text": [
      "              precision    recall  f1-score   support\n",
      "\n",
      "         0.0       0.00      0.00      0.00        18\n",
      "         1.0       0.95      1.00      0.98       372\n",
      "\n",
      "    accuracy                           0.95       390\n",
      "   macro avg       0.48      0.50      0.49       390\n",
      "weighted avg       0.91      0.95      0.93       390\n",
      "\n"
     ]
    }
   ],
   "source": [
    "print(data_report_new)"
   ]
  },
  {
   "cell_type": "code",
   "execution_count": 183,
   "metadata": {},
   "outputs": [
    {
     "data": {
      "image/png": "[encoded data removed]",
      "text/plain": [
       "<Figure size 800x600 with 1 Axes>"
      ]
     },
     "metadata": {},
     "output_type": "display_data"
    },
    {
     "name": "stdout",
     "output_type": "stream",
     "text": [
      "AUC: 0.5863948626045401\n",
      "Optimal Probability Cutoff (Youden's J statistic): 0.8907792662647299\n"
     ]
    }
   ],
   "source": [
    "from sklearn.metrics import roc_curve, auc\n",
    "import matplotlib.pyplot as plt\n",
    "\n",
    "# Step 1: Generate predicted probabilities\n",
    "y_pred_proba_val = ideal_model.predict_proba(X_val)[:, 1]\n",
    "\n",
    "# Step 2: Calculate FPR, TPR, and thresholds\n",
    "fpr_val, tpr_val, thresholds_val = roc_curve(y_val, y_pred_proba_val)\n",
    "\n",
    "# Step 3: Plot ROC curve\n",
    "plt.figure(figsize=(8, 6))\n",
    "plt.plot(fpr_val, tpr_val, color='blue', lw=2, label='ROC curve (AUC = %0.2f)' % auc(fpr_val, tpr_val))\n",
    "plt.plot([0, 1], [0, 1], color='gray', lw=1, linestyle='--')\n",
    "plt.xlabel('False Positive Rate')\n",
    "plt.ylabel('True Positive Rate')\n",
    "plt.title('Receiver Operating Characteristic (ROC) Curve')\n",
    "plt.legend(loc=\"lower right\")\n",
    "plt.grid(True)\n",
    "plt.show()\n",
    "\n",
    "# Step 4: Calculate AUC\n",
    "roc_auc_val = auc(fpr_val, tpr_val)\n",
    "print(\"AUC:\", roc_auc_val)\n",
    "\n",
    "# Step 5: Determine optimal probability cutoff (Youden's J statistic)\n",
    "optimal_idx_val = np.argmax(tpr_val - fpr_val)\n",
    "optimal_threshold_val = thresholds_val[optimal_idx_val]\n",
    "print(\"Optimal Probability Cutoff (Youden's J statistic):\", optimal_threshold_val)\n"
   ]
  },
  {
   "cell_type": "code",
   "execution_count": 170,
   "metadata": {},
   "outputs": [],
   "source": [
    "#validating data and clean up \n",
    "data_pred_new_test = ideal_model.predict_proba(X_test)[:,1]\n",
    "data_val_tf_new_test= np.where(data_pred_new_test > 0.5, 1,0) # convert values to 1 & 0 base on probability of 0.5"
   ]
  },
  {
   "cell_type": "code",
   "execution_count": 171,
   "metadata": {},
   "outputs": [],
   "source": [
    "#calculation report of validated data\n",
    "from sklearn.metrics import accuracy_score, classification_report\n",
    "\n",
    "data_accuracy_new_test = accuracy_score(y_test,data_val_tf_new_test)\n",
    "data_report_new_test = classification_report(y_test,data_val_tf_new_test)"
   ]
  },
  {
   "cell_type": "code",
   "execution_count": 172,
   "metadata": {},
   "outputs": [
    {
     "data": {
      "text/plain": [
       "0.918918918918919"
      ]
     },
     "execution_count": 172,
     "metadata": {},
     "output_type": "execute_result"
    }
   ],
   "source": [
    "data_accuracy_new_test"
   ]
  },
  {
   "cell_type": "code",
   "execution_count": 173,
   "metadata": {},
   "outputs": [
    {
     "name": "stdout",
     "output_type": "stream",
     "text": [
      "              precision    recall  f1-score   support\n",
      "\n",
      "         0.0       0.00      0.00      0.00        22\n",
      "         1.0       0.93      0.99      0.96       274\n",
      "\n",
      "    accuracy                           0.92       296\n",
      "   macro avg       0.46      0.50      0.48       296\n",
      "weighted avg       0.86      0.92      0.89       296\n",
      "\n"
     ]
    }
   ],
   "source": [
    "print(data_report_new_test)"
   ]
  },
  {
   "cell_type": "code",
   "execution_count": 184,
   "metadata": {},
   "outputs": [
    {
     "data": {
      "image/png": "[encoded data removed]",
      "text/plain": [
       "<Figure size 800x600 with 1 Axes>"
      ]
     },
     "metadata": {},
     "output_type": "display_data"
    },
    {
     "name": "stdout",
     "output_type": "stream",
     "text": [
      "AUC: 0.5124419376244194\n",
      "Optimal Probability Cutoff (Youden's J statistic): 0.90159575216674\n"
     ]
    }
   ],
   "source": [
    "from sklearn.metrics import roc_curve, auc\n",
    "import matplotlib.pyplot as plt\n",
    "\n",
    "# Step 1: Generate predicted probabilities\n",
    "y_pred_proba_test = ideal_model.predict_proba(X_test)[:, 1]\n",
    "\n",
    "# Step 2: Calculate FPR, TPR, and thresholds\n",
    "fpr, tpr, thresholds = roc_curve(y_test, y_pred_proba_test)\n",
    "\n",
    "# Step 3: Plot ROC curve\n",
    "plt.figure(figsize=(8, 6))\n",
    "plt.plot(fpr, tpr, color='blue', lw=2, label='ROC curve (AUC = %0.2f)' % auc(fpr, tpr))\n",
    "plt.plot([0, 1], [0, 1], color='gray', lw=1, linestyle='--')\n",
    "plt.xlabel('False Positive Rate')\n",
    "plt.ylabel('True Positive Rate')\n",
    "plt.title('Receiver Operating Characteristic (ROC) Curve')\n",
    "plt.legend(loc=\"lower right\")\n",
    "plt.grid(True)\n",
    "plt.show()\n",
    "\n",
    "# Step 4: Calculate AUC\n",
    "roc_auc = auc(fpr, tpr)\n",
    "print(\"AUC:\", roc_auc)\n",
    "\n",
    "# Step 5: Determine optimal probability cutoff (Youden's J statistic)\n",
    "optimal_idx = np.argmax(tpr - fpr)\n",
    "optimal_threshold = thresholds[optimal_idx]\n",
    "print(\"Optimal Probability Cutoff (Youden's J statistic):\", optimal_threshold)\n"
   ]
  },
  {
   "cell_type": "code",
   "execution_count": 174,
   "metadata": {},
   "outputs": [],
   "source": [
    "#validating data and clean up \n",
    "data_pred_test2 = model.predict_proba(X_test)[:,1]\n",
    "data_val_tf_test2= np.where(data_pred_test2 > 0.5, 1,0) # convert values to 1 & 0 base on probability of 0.5"
   ]
  },
  {
   "cell_type": "code",
   "execution_count": 175,
   "metadata": {},
   "outputs": [],
   "source": [
    "#calculation report of validated data\n",
    "from sklearn.metrics import accuracy_score, classification_report\n",
    "\n",
    "data_accuracy_new_test2 = accuracy_score(y_test,data_val_tf_test2)\n",
    "data_report_new_test2 = classification_report(y_test,data_val_tf_test2)"
   ]
  },
  {
   "cell_type": "code",
   "execution_count": 176,
   "metadata": {},
   "outputs": [
    {
     "data": {
      "text/plain": [
       "0.8952702702702703"
      ]
     },
     "execution_count": 176,
     "metadata": {},
     "output_type": "execute_result"
    }
   ],
   "source": [
    "data_accuracy_new_test2"
   ]
  },
  {
   "cell_type": "code",
   "execution_count": 177,
   "metadata": {},
   "outputs": [
    {
     "name": "stdout",
     "output_type": "stream",
     "text": [
      "              precision    recall  f1-score   support\n",
      "\n",
      "         0.0       0.09      0.05      0.06        22\n",
      "         1.0       0.93      0.96      0.94       274\n",
      "\n",
      "    accuracy                           0.90       296\n",
      "   macro avg       0.51      0.50      0.50       296\n",
      "weighted avg       0.86      0.90      0.88       296\n",
      "\n"
     ]
    }
   ],
   "source": [
    "print(data_report_new_test2)"
   ]
  },
  {
   "cell_type": "code",
   "execution_count": 185,
   "metadata": {},
   "outputs": [
    {
     "data": {
      "image/png": "[encoded data removed]",
      "text/plain": [
       "<Figure size 800x600 with 1 Axes>"
      ]
     },
     "metadata": {},
     "output_type": "display_data"
    },
    {
     "name": "stdout",
     "output_type": "stream",
     "text": [
      "AUC: 0.38769077637690774\n",
      "Optimal Probability Cutoff (Youden's J statistic): 0.7591299375856597\n"
     ]
    }
   ],
   "source": [
    "from sklearn.metrics import roc_curve, auc\n",
    "import matplotlib.pyplot as plt\n",
    "\n",
    "# Step 1: Generate predicted probabilities\n",
    "y_pred_proba_mtest = model.predict_proba(X_test)[:, 1]\n",
    "\n",
    "# Step 2: Calculate FPR, TPR, and thresholds\n",
    "fpr, tpr, thresholds = roc_curve(y_test, y_pred_proba_mtest)\n",
    "\n",
    "# Step 3: Plot ROC curve\n",
    "plt.figure(figsize=(8, 6))\n",
    "plt.plot(fpr, tpr, color='blue', lw=2, label='ROC curve (AUC = %0.2f)' % auc(fpr, tpr))\n",
    "plt.plot([0, 1], [0, 1], color='gray', lw=1, linestyle='--')\n",
    "plt.xlabel('False Positive Rate')\n",
    "plt.ylabel('True Positive Rate')\n",
    "plt.title('Receiver Operating Characteristic (ROC) Curve')\n",
    "plt.legend(loc=\"lower right\")\n",
    "plt.grid(True)\n",
    "plt.show()\n",
    "\n",
    "# Step 4: Calculate AUC\n",
    "roc_auc = auc(fpr, tpr)\n",
    "print(\"AUC:\", roc_auc)\n",
    "\n",
    "# Step 5: Determine optimal probability cutoff (Youden's J statistic)\n",
    "optimal_idx = np.argmax(tpr - fpr)\n",
    "optimal_threshold = thresholds[optimal_idx]\n",
    "print(\"Optimal Probability Cutoff (Youden's J statistic):\", optimal_threshold)\n"
   ]
  },
  {
   "cell_type": "code",
   "execution_count": 178,
   "metadata": {},
   "outputs": [
    {
     "data": {
      "text/html": [
       "<style>#sk-container-id-9 {color: black;background-color: white;}#sk-container-id-9 pre{padding: 0;}#sk-container-id-9 div.sk-toggleable {background-color: white;}#sk-container-id-9 label.sk-toggleable__label {cursor: pointer;display: block;width: 100%;margin-bottom: 0;padding: 0.3em;box-sizing: border-box;text-align: center;}#sk-container-id-9 label.sk-toggleable__label-arrow:before {content: \"▸\";float: left;margin-right: 0.25em;color: #696969;}#sk-container-id-9 label.sk-toggleable__label-arrow:hover:before {color: black;}#sk-container-id-9 div.sk-estimator:hover label.sk-toggleable__label-arrow:before {color: black;}#sk-container-id-9 div.sk-toggleable__content {max-height: 0;max-width: 0;overflow: hidden;text-align: left;background-color: #f0f8ff;}#sk-container-id-9 div.sk-toggleable__content pre {margin: 0.2em;color: black;border-radius: 0.25em;background-color: #f0f8ff;}#sk-container-id-9 input.sk-toggleable__control:checked~div.sk-toggleable__content {max-height: 200px;max-width: 100%;overflow: auto;}#sk-container-id-9 input.sk-toggleable__control:checked~label.sk-toggleable__label-arrow:before {content: \"▾\";}#sk-container-id-9 div.sk-estimator input.sk-toggleable__control:checked~label.sk-toggleable__label {background-color: #d4ebff;}#sk-container-id-9 div.sk-label input.sk-toggleable__control:checked~label.sk-toggleable__label {background-color: #d4ebff;}#sk-container-id-9 input.sk-hidden--visually {border: 0;clip: rect(1px 1px 1px 1px);clip: rect(1px, 1px, 1px, 1px);height: 1px;margin: -1px;overflow: hidden;padding: 0;position: absolute;width: 1px;}#sk-container-id-9 div.sk-estimator {font-family: monospace;background-color: #f0f8ff;border: 1px dotted black;border-radius: 0.25em;box-sizing: border-box;margin-bottom: 0.5em;}#sk-container-id-9 div.sk-estimator:hover {background-color: #d4ebff;}#sk-container-id-9 div.sk-parallel-item::after {content: \"\";width: 100%;border-bottom: 1px solid gray;flex-grow: 1;}#sk-container-id-9 div.sk-label:hover label.sk-toggleable__label {background-color: #d4ebff;}#sk-container-id-9 div.sk-serial::before {content: \"\";position: absolute;border-left: 1px solid gray;box-sizing: border-box;top: 0;bottom: 0;left: 50%;z-index: 0;}#sk-container-id-9 div.sk-serial {display: flex;flex-direction: column;align-items: center;background-color: white;padding-right: 0.2em;padding-left: 0.2em;position: relative;}#sk-container-id-9 div.sk-item {position: relative;z-index: 1;}#sk-container-id-9 div.sk-parallel {display: flex;align-items: stretch;justify-content: center;background-color: white;position: relative;}#sk-container-id-9 div.sk-item::before, #sk-container-id-9 div.sk-parallel-item::before {content: \"\";position: absolute;border-left: 1px solid gray;box-sizing: border-box;top: 0;bottom: 0;left: 50%;z-index: -1;}#sk-container-id-9 div.sk-parallel-item {display: flex;flex-direction: column;z-index: 1;position: relative;background-color: white;}#sk-container-id-9 div.sk-parallel-item:first-child::after {align-self: flex-end;width: 50%;}#sk-container-id-9 div.sk-parallel-item:last-child::after {align-self: flex-start;width: 50%;}#sk-container-id-9 div.sk-parallel-item:only-child::after {width: 0;}#sk-container-id-9 div.sk-dashed-wrapped {border: 1px dashed gray;margin: 0 0.4em 0.5em 0.4em;box-sizing: border-box;padding-bottom: 0.4em;background-color: white;}#sk-container-id-9 div.sk-label label {font-family: monospace;font-weight: bold;display: inline-block;line-height: 1.2em;}#sk-container-id-9 div.sk-label-container {text-align: center;}#sk-container-id-9 div.sk-container {/* jupyter's `normalize.less` sets `[hidden] { display: none; }` but bootstrap.min.css set `[hidden] { display: none !important; }` so we also need the `!important` here to be able to override the default hidden behavior on the sphinx rendered scikit-learn.org. See: https://github.com/scikit-learn/scikit-learn/issues/21755 */display: inline-block !important;position: relative;}#sk-container-id-9 div.sk-text-repr-fallback {display: none;}</style><div id=\"sk-container-id-9\" class=\"sk-top-container\"><div class=\"sk-text-repr-fallback\"><pre>RandomForestClassifier(max_depth=10, random_state=42)</pre><b>In a Jupyter environment, please rerun this cell to show the HTML representation or trust the notebook. <br />On GitHub, the HTML representation is unable to render, please try loading this page with nbviewer.org.</b></div><div class=\"sk-container\" hidden><div class=\"sk-item\"><div class=\"sk-estimator sk-toggleable\"><input class=\"sk-toggleable__control sk-hidden--visually\" id=\"sk-estimator-id-9\" type=\"checkbox\" checked><label for=\"sk-estimator-id-9\" class=\"sk-toggleable__label sk-toggleable__label-arrow\">RandomForestClassifier</label><div class=\"sk-toggleable__content\"><pre>RandomForestClassifier(max_depth=10, random_state=42)</pre></div></div></div></div></div>"
      ],
      "text/plain": [
       "RandomForestClassifier(max_depth=10, random_state=42)"
      ]
     },
     "execution_count": 178,
     "metadata": {},
     "output_type": "execute_result"
    }
   ],
   "source": [
    "### Introduce by David Shoemaker\n",
    "from sklearn.ensemble import RandomForestClassifier\n",
    "\n",
    "# Create random forest classifier model with best parameters\n",
    "best_random_forest = RandomForestClassifier(n_estimators=100, max_depth=10, random_state=42)\n",
    "\n",
    "# Fit the model to the data\n",
    "best_random_forest.fit(X_train, y_train)  # Assuming you have X_train and y_train defined\n",
    "\n",
    "# Once the model is trained, you can use it for predictions or other tasks\n"
   ]
  },
  {
   "cell_type": "code",
   "execution_count": 179,
   "metadata": {},
   "outputs": [],
   "source": [
    "rf_pred = best_random_forest.predict(X_val)"
   ]
  },
  {
   "cell_type": "code",
   "execution_count": 180,
   "metadata": {},
   "outputs": [
    {
     "data": {
      "text/plain": [
       "0.9538461538461539"
      ]
     },
     "execution_count": 180,
     "metadata": {},
     "output_type": "execute_result"
    }
   ],
   "source": [
    "accuracy_score(y_val, rf_pred)"
   ]
  },
  {
   "cell_type": "code",
   "execution_count": 181,
   "metadata": {},
   "outputs": [
    {
     "data": {
      "text/plain": [
       "0.9222972972972973"
      ]
     },
     "execution_count": 181,
     "metadata": {},
     "output_type": "execute_result"
    }
   ],
   "source": [
    "rf_test = best_random_forest.predict(X_test)\n",
    "accuracy_score(y_test, rf_test)"
   ]
  },
  {
   "cell_type": "code",
   "execution_count": 186,
   "metadata": {},
   "outputs": [
    {
     "name": "stdout",
     "output_type": "stream",
     "text": [
      "              precision    recall  f1-score   support\n",
      "\n",
      "         0.0       0.33      0.05      0.08        22\n",
      "         1.0       0.93      0.99      0.96       274\n",
      "\n",
      "    accuracy                           0.92       296\n",
      "   macro avg       0.63      0.52      0.52       296\n",
      "weighted avg       0.88      0.92      0.89       296\n",
      "\n"
     ]
    }
   ],
   "source": [
    "rf_val_report = classification_report(y_test, rf_test)\n",
    "print(rf_val_report)"
   ]
  },
  {
   "cell_type": "code",
   "execution_count": 187,
   "metadata": {},
   "outputs": [
    {
     "data": {
      "image/png": "[encoded data removed]",
      "text/plain": [
       "<Figure size 800x600 with 1 Axes>"
      ]
     },
     "metadata": {},
     "output_type": "display_data"
    },
    {
     "name": "stdout",
     "output_type": "stream",
     "text": [
      "AUC: 0.5084605175846052\n",
      "Optimal Probability Cutoff (Youden's J statistic): 0.9669456720338752\n"
     ]
    }
   ],
   "source": [
    "from sklearn.metrics import roc_curve, auc\n",
    "import matplotlib.pyplot as plt\n",
    "\n",
    "# Step 1: Generate predicted probabilities\n",
    "y_pred_proba_rf = best_random_forest.predict_proba(X_test)[:, 1]\n",
    "\n",
    "# Step 2: Calculate FPR, TPR, and thresholds\n",
    "fpr_rf, tpr_rf, thresholds_rf = roc_curve(y_test, y_pred_proba_rf)\n",
    "\n",
    "# Step 3: Plot ROC curve\n",
    "plt.figure(figsize=(8, 6))\n",
    "plt.plot(fpr_rf, tpr_rf, color='blue', lw=2, label='ROC curve (AUC = %0.2f)' % auc(fpr_rf, tpr_rf))\n",
    "plt.plot([0, 1], [0, 1], color='gray', lw=1, linestyle='--')\n",
    "plt.xlabel('False Positive Rate')\n",
    "plt.ylabel('True Positive Rate')\n",
    "plt.title('Receiver Operating Characteristic (ROC) Curve')\n",
    "plt.legend(loc=\"lower right\")\n",
    "plt.grid(True)\n",
    "plt.show()\n",
    "\n",
    "# Step 4: Calculate AUC\n",
    "roc_auc_rf = auc(fpr_rf, tpr_rf)\n",
    "print(\"AUC:\", roc_auc_rf)\n",
    "\n",
    "# Step 5: Determine optimal probability cutoff (Youden's J statistic)\n",
    "optimal_idx_rf = np.argmax(tpr_rf - fpr_rf)\n",
    "optimal_threshold_rf = thresholds_rf[optimal_idx_rf]\n",
    "print(\"Optimal Probability Cutoff (Youden's J statistic):\", optimal_threshold_rf)\n"
   ]
  },
  {
   "cell_type": "code",
   "execution_count": 188,
   "metadata": {},
   "outputs": [
    {
     "data": {
      "image/png": "[encoded data removed]",
      "text/plain": [
       "<Figure size 800x600 with 1 Axes>"
      ]
     },
     "metadata": {},
     "output_type": "display_data"
    },
    {
     "name": "stdout",
     "output_type": "stream",
     "text": [
      "AUC: 0.5637694145758662\n",
      "Optimal Probability Cutoff (Youden's J statistic): 0.9560550215751915\n"
     ]
    }
   ],
   "source": [
    "from sklearn.metrics import roc_curve, auc\n",
    "import matplotlib.pyplot as plt\n",
    "\n",
    "# Step 1: Generate predicted probabilities\n",
    "y_pred_proba_rf_val = best_random_forest.predict_proba(X_val)[:, 1]\n",
    "\n",
    "# Step 2: Calculate FPR, TPR, and thresholds\n",
    "fpr_rf, tpr_rf, thresholds_rf = roc_curve(y_val, y_pred_proba_rf_val)\n",
    "\n",
    "# Step 3: Plot ROC curve\n",
    "plt.figure(figsize=(8, 6))\n",
    "plt.plot(fpr_rf, tpr_rf, color='blue', lw=2, label='ROC curve (AUC = %0.2f)' % auc(fpr_rf, tpr_rf))\n",
    "plt.plot([0, 1], [0, 1], color='gray', lw=1, linestyle='--')\n",
    "plt.xlabel('False Positive Rate')\n",
    "plt.ylabel('True Positive Rate')\n",
    "plt.title('Receiver Operating Characteristic (ROC) Curve')\n",
    "plt.legend(loc=\"lower right\")\n",
    "plt.grid(True)\n",
    "plt.show()\n",
    "\n",
    "# Step 4: Calculate AUC\n",
    "roc_auc_rf = auc(fpr_rf, tpr_rf)\n",
    "print(\"AUC:\", roc_auc_rf)\n",
    "\n",
    "# Step 5: Determine optimal probability cutoff (Youden's J statistic)\n",
    "optimal_idx_rf = np.argmax(tpr_rf - fpr_rf)\n",
    "optimal_threshold_rf = thresholds_rf[optimal_idx_rf]\n",
    "print(\"Optimal Probability Cutoff (Youden's J statistic):\", optimal_threshold_rf)\n"
   ]
  },
  {
   "cell_type": "code",
   "execution_count": null,
   "metadata": {},
   "outputs": [],
   "source": []
  }
 ],
 "metadata": {
  "kernelspec": {
   "display_name": "Python [conda env:machine_learning] *",
   "language": "python",
   "name": "conda-env-machine_learning-py"
  },
  "language_info": {
   "codemirror_mode": {
    "name": "ipython",
    "version": 3
   },
   "file_extension": ".py",
   "mimetype": "text/x-python",
   "name": "python",
   "nbconvert_exporter": "python",
   "pygments_lexer": "ipython3",
   "version": "3.11.7"
  }
 },
 "nbformat": 4,
 "nbformat_minor": 4
}
